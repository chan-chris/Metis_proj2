{
 "cells": [
  {
   "cell_type": "markdown",
   "metadata": {},
   "source": [
    "### Research Ideas:\n",
    "- Predict (collector) vinyl price\n",
    "- https://blog.discogs.com/en/discogs-top-100-most-expensive-records/\n",
    "- limits: only 100 data points\n",
    "- can we obtain # copies/presses"
   ]
  },
  {
   "cell_type": "code",
   "execution_count": 116,
   "metadata": {},
   "outputs": [],
   "source": [
    "url = 'http://web.archive.org/web/20180502225137/https://blog.discogs.com/en/discogs-top-100-most-expensive-records/'\n",
    "\n",
    "response = requests.get(url)"
   ]
  },
  {
   "cell_type": "code",
   "execution_count": 117,
   "metadata": {},
   "outputs": [
    {
     "data": {
      "text/plain": [
       "200"
      ]
     },
     "execution_count": 117,
     "metadata": {},
     "output_type": "execute_result"
    }
   ],
   "source": [
    "response.status_code"
   ]
  },
  {
   "cell_type": "code",
   "execution_count": 123,
   "metadata": {},
   "outputs": [
    {
     "data": {
      "text/plain": [
       "403"
      ]
     },
     "execution_count": 123,
     "metadata": {},
     "output_type": "execute_result"
    }
   ],
   "source": [
    "url='https://blog.discogs.com/en/top-100-expensive-us/'\n",
    "response=requests.get(url)\n",
    "response.status_code"
   ]
  },
  {
   "cell_type": "code",
   "execution_count": 121,
   "metadata": {},
   "outputs": [
    {
     "data": {
      "text/plain": [
       "200"
      ]
     },
     "execution_count": 121,
     "metadata": {},
     "output_type": "execute_result"
    }
   ],
   "source": [
    "url = 'https://www.popsike.com/php/quicksearch.php?top25=all'\n",
    "response = requests.get(url)\n",
    "response.status_code"
   ]
  },
  {
   "cell_type": "markdown",
   "metadata": {},
   "source": [
    "#### 1. setup"
   ]
  },
  {
   "cell_type": "code",
   "execution_count": 5,
   "metadata": {},
   "outputs": [],
   "source": [
    "from bs4 import BeautifulSoup\n",
    "import requests"
   ]
  },
  {
   "cell_type": "code",
   "execution_count": null,
   "metadata": {},
   "outputs": [],
   "source": [
    "# with open('test_webpage/page.html') as page:\n",
    "#     test_html = page.read()\n",
    "# soup = BeautifulSoup(test_html, 'lxml')"
   ]
  },
  {
   "cell_type": "markdown",
   "metadata": {},
   "source": [
    "#### obtain url"
   ]
  },
  {
   "cell_type": "code",
   "execution_count": 7,
   "metadata": {},
   "outputs": [],
   "source": [
    "#url = 'https://www.boxofficemojo.com/title/tt0118715/' \n",
    "url = 'https://www.boxofficemojo.com/title/tt0086879/?ref_=bo_se_r_1'"
   ]
  },
  {
   "cell_type": "code",
   "execution_count": 8,
   "metadata": {},
   "outputs": [],
   "source": [
    "response = requests.get(url)"
   ]
  },
  {
   "cell_type": "code",
   "execution_count": 11,
   "metadata": {},
   "outputs": [
    {
     "data": {
      "text/plain": [
       "200"
      ]
     },
     "execution_count": 11,
     "metadata": {},
     "output_type": "execute_result"
    }
   ],
   "source": [
    "response.status_code  #200 = success!"
   ]
  },
  {
   "cell_type": "code",
   "execution_count": 13,
   "metadata": {},
   "outputs": [
    {
     "data": {
      "text/plain": [
       "'<!doctype html><html class=\"a-no-js\" data-19ax5a9jf=\"dingo\"><head><script>var aPageStart = (new Date()).getTime();</script><meta charset=\"utf-8\"/><meta name=\"viewport\" content=\"width=device-width, initial-scale=1.0\" />\\n                <meta charset=\"utf-8\" />\\n            <title dir=\"ltr\">Amadeus - Box Office Mojo</title><meta content=\"Amadeus\" name=\"title\" />\\n            <meta content=\"Box Office Mojo\" property=\"og:site_name\" />\\n            <meta name=\"format-detection\" content=\"telephone=no\" />\\n            <link href=\"https://m.media-amazon.com/images/G/01/boxofficemojo/v2/favicon._CB448965889_.ico\" type=\"image/x-icon\" rel=\"icon\" />\\n            <link rel=\"stylesheet\" href=\"https://images-na.ssl-images-amazon.com/images/I/11EIQ5IGqaL._RC|012LjolmrML.css,41t4Ok2rjiL.css,51IB+wfP8qL.css,01evdoiemkL.css,01oDR3IULNL.css,01Vctty9pOL.css,31zpKVx8wkL.css,01XPHJk60-L.css,21qPwhPKAAL.css,01Jb-VvL4uL.css,21LK7jaicML.css,11L58Qpo0GL.css,21kyTi1FabL.css,01ruG+gDPFL.css,01egbgkonWL.css,21GwE3cR-yL.'"
      ]
     },
     "execution_count": 13,
     "metadata": {},
     "output_type": "execute_result"
    }
   ],
   "source": [
    "response.text[:1000]  #First 1000 characters of the HTML"
   ]
  },
  {
   "cell_type": "markdown",
   "metadata": {},
   "source": [
    "#### Page (in this context) will give you FULL HTML text"
   ]
  },
  {
   "cell_type": "code",
   "execution_count": 14,
   "metadata": {},
   "outputs": [],
   "source": [
    "page = response.text"
   ]
  },
  {
   "cell_type": "code",
   "execution_count": 15,
   "metadata": {},
   "outputs": [],
   "source": [
    "soup = BeautifulSoup(page, \"lxml\")"
   ]
  },
  {
   "cell_type": "code",
   "execution_count": null,
   "metadata": {},
   "outputs": [],
   "source": [
    "print(soup.prettify()) ## Makes the code nice"
   ]
  },
  {
   "cell_type": "markdown",
   "metadata": {},
   "source": [
    "#### .find gives you FIRST instance of tag"
   ]
  },
  {
   "cell_type": "code",
   "execution_count": 23,
   "metadata": {},
   "outputs": [
    {
     "data": {
      "text/plain": [
       "<a class=\"a-link-normal\" href=\"/?ref_=bo_nb_tt_mojologo\"></a>"
      ]
     },
     "execution_count": 23,
     "metadata": {},
     "output_type": "execute_result"
    }
   ],
   "source": [
    "soup.find('a')"
   ]
  },
  {
   "cell_type": "markdown",
   "metadata": {},
   "source": [
    "#### .find_all gives ALL instances. you can select instance"
   ]
  },
  {
   "cell_type": "code",
   "execution_count": 18,
   "metadata": {},
   "outputs": [
    {
     "data": {
      "text/plain": [
       "<a class=\"a-link-normal\" href=\"/privacy/?ref_=bo_ft_tt_privacy\">Privacy Policy</a>"
      ]
     },
     "execution_count": 18,
     "metadata": {},
     "output_type": "execute_result"
    }
   ],
   "source": [
    "soup.find_all('a')[-1]"
   ]
  },
  {
   "cell_type": "markdown",
   "metadata": {},
   "source": [
    "#### Extracting things like HREF from an element in HTML"
   ]
  },
  {
   "cell_type": "code",
   "execution_count": 24,
   "metadata": {},
   "outputs": [],
   "source": [
    "testing = soup.find_all('a')[-1]"
   ]
  },
  {
   "cell_type": "code",
   "execution_count": 25,
   "metadata": {},
   "outputs": [
    {
     "data": {
      "text/plain": [
       "'/privacy/?ref_=bo_ft_tt_privacy'"
      ]
     },
     "execution_count": 25,
     "metadata": {},
     "output_type": "execute_result"
    }
   ],
   "source": [
    "testing.get(\"href\")"
   ]
  },
  {
   "cell_type": "markdown",
   "metadata": {},
   "source": [
    "#### MPAA Rating, Release Date\n",
    "\n",
    "_**STEP 1:** Create function to grab values_ \n",
    "\n",
    "The text matching method can also help us get runtime, rating, and release date, so let's make a reuable function."
   ]
  },
  {
   "cell_type": "code",
   "execution_count": 28,
   "metadata": {},
   "outputs": [],
   "source": [
    "## allows us to use reg expressions to search fields\n",
    "import re\n",
    "#runtime_regex = re.compile('Run')\n",
    "#soup.find(text=runtime_regex)"
   ]
  },
  {
   "cell_type": "code",
   "execution_count": 39,
   "metadata": {},
   "outputs": [],
   "source": [
    "def get_movie_value(soup, field_name):\n",
    "    \n",
    "    '''Grab a value from Box Office Mojo HTML\n",
    "    \n",
    "    Takes a string attribute of a movie on the page and returns the string in\n",
    "    the next sibling object (the value for that attribute) or None if nothing is found.\n",
    "    '''\n",
    "    \n",
    "    obj = soup.find(text=re.compile(field_name))\n",
    "    \n",
    "    if not obj: \n",
    "        return None\n",
    "    \n",
    "    # this works for most of the values\n",
    "    next_element = obj.findNext()\n",
    "    \n",
    "    if next_element:\n",
    "        return next_element.text \n",
    "    else:\n",
    "        return None"
   ]
  },
  {
   "cell_type": "code",
   "execution_count": 40,
   "metadata": {},
   "outputs": [
    {
     "name": "stdout",
     "output_type": "stream",
     "text": [
      "2 hr 40 min\n"
     ]
    }
   ],
   "source": [
    "# runtime\n",
    "runtime = get_movie_value(soup,'Run')\n",
    "print(runtime)"
   ]
  },
  {
   "cell_type": "code",
   "execution_count": 41,
   "metadata": {},
   "outputs": [
    {
     "name": "stdout",
     "output_type": "stream",
     "text": [
      "R\n"
     ]
    }
   ],
   "source": [
    "# rating\n",
    "rating = get_movie_value(soup,'MPAA')\n",
    "print(rating)"
   ]
  },
  {
   "cell_type": "code",
   "execution_count": 42,
   "metadata": {},
   "outputs": [
    {
     "name": "stdout",
     "output_type": "stream",
     "text": [
      "September 21, 1984\n",
      "            (Domestic)\n"
     ]
    }
   ],
   "source": [
    "release_date = get_movie_value(soup,'Release Date')\n",
    "print(release_date)"
   ]
  },
  {
   "cell_type": "code",
   "execution_count": 43,
   "metadata": {},
   "outputs": [
    {
     "name": "stdout",
     "output_type": "stream",
     "text": [
      "September 21, 1984\n"
     ]
    }
   ],
   "source": [
    "release_date = release_date.split('\\n')[0]  #Select the only the date\n",
    "print(release_date)"
   ]
  },
  {
   "cell_type": "code",
   "execution_count": 45,
   "metadata": {},
   "outputs": [
    {
     "name": "stdout",
     "output_type": "stream",
     "text": [
      "Biography\n",
      "    \n",
      "        Drama\n",
      "    \n",
      "        History\n",
      "    \n",
      "        Music\n"
     ]
    }
   ],
   "source": [
    "genre = get_movie_value(soup,'Genres')\n",
    "print(genre)"
   ]
  },
  {
   "cell_type": "code",
   "execution_count": null,
   "metadata": {},
   "outputs": [],
   "source": []
  },
  {
   "cell_type": "code",
   "execution_count": null,
   "metadata": {},
   "outputs": [],
   "source": []
  },
  {
   "cell_type": "code",
   "execution_count": null,
   "metadata": {},
   "outputs": [],
   "source": []
  },
  {
   "cell_type": "markdown",
   "metadata": {},
   "source": [
    "_**STEP 2:** Create helper functions to parse strings into appropriate data types_\n",
    "\n",
    "The returned values all need a bit of formatting before we can work with this data.  Here are a few helper functions."
   ]
  },
  {
   "cell_type": "code",
   "execution_count": 76,
   "metadata": {},
   "outputs": [],
   "source": [
    "import dateutil.parser\n",
    "\n",
    "def money_to_int(moneystring):\n",
    "    moneystring = moneystring.replace('$', '').replace(',', '')\n",
    "    return int(moneystring)\n",
    "\n",
    "def runtime_to_minutes(runtimestring):\n",
    "    runtime = runtimestring.split()\n",
    "    try:\n",
    "        minutes = int(runtime[0])*60 + int(runtime[2])\n",
    "        return minutes\n",
    "    except:\n",
    "        return None\n",
    "\n",
    "def to_date(datestring):\n",
    "    date = dateutil.parser.parse(datestring)\n",
    "    return date"
   ]
  },
  {
   "cell_type": "markdown",
   "metadata": {},
   "source": [
    "_**STEP 3:** Apply these conversions_\n",
    "\n",
    "Let's get these values again and format them all in one swoop. (Note: Rating is already correct as a string.)"
   ]
  },
  {
   "cell_type": "code",
   "execution_count": 75,
   "metadata": {},
   "outputs": [
    {
     "ename": "NameError",
     "evalue": "name 'dtg' is not defined",
     "output_type": "error",
     "traceback": [
      "\u001b[0;31m---------------------------------------------------------------------------\u001b[0m",
      "\u001b[0;31mNameError\u001b[0m                                 Traceback (most recent call last)",
      "\u001b[0;32m<ipython-input-75-169320f4cd75>\u001b[0m in \u001b[0;36m<module>\u001b[0;34m\u001b[0m\n\u001b[0;32m----> 1\u001b[0;31m \u001b[0mraw_domestic_total_gross\u001b[0m \u001b[0;34m=\u001b[0m \u001b[0mdtg\u001b[0m\u001b[0;34m\u001b[0m\u001b[0;34m\u001b[0m\u001b[0m\n\u001b[0m\u001b[1;32m      2\u001b[0m \u001b[0mdomestic_total_gross\u001b[0m \u001b[0;34m=\u001b[0m \u001b[0mmoney_to_int\u001b[0m\u001b[0;34m(\u001b[0m\u001b[0mraw_domestic_total_gross\u001b[0m\u001b[0;34m)\u001b[0m\u001b[0;34m\u001b[0m\u001b[0;34m\u001b[0m\u001b[0m\n\u001b[1;32m      3\u001b[0m \u001b[0;34m\u001b[0m\u001b[0m\n\u001b[1;32m      4\u001b[0m \u001b[0mraw_runtime\u001b[0m \u001b[0;34m=\u001b[0m \u001b[0mget_movie_value\u001b[0m\u001b[0;34m(\u001b[0m\u001b[0msoup\u001b[0m\u001b[0;34m,\u001b[0m\u001b[0;34m'Running'\u001b[0m\u001b[0;34m)\u001b[0m\u001b[0;34m\u001b[0m\u001b[0;34m\u001b[0m\u001b[0m\n\u001b[1;32m      5\u001b[0m \u001b[0mruntime\u001b[0m \u001b[0;34m=\u001b[0m \u001b[0mruntime_to_minutes\u001b[0m\u001b[0;34m(\u001b[0m\u001b[0mraw_runtime\u001b[0m\u001b[0;34m)\u001b[0m\u001b[0;34m\u001b[0m\u001b[0;34m\u001b[0m\u001b[0m\n",
      "\u001b[0;31mNameError\u001b[0m: name 'dtg' is not defined"
     ]
    }
   ],
   "source": [
    "raw_domestic_total_gross = dtg\n",
    "domestic_total_gross = money_to_int(raw_domestic_total_gross)\n",
    "\n",
    "raw_runtime = get_movie_value(soup,'Running')\n",
    "runtime = runtime_to_minutes(raw_runtime)\n",
    "\n",
    "raw_release_date = get_movie_value(soup,'Release Date').split('\\n')[0]\n",
    "release_date = to_date(raw_release_date)"
   ]
  },
  {
   "cell_type": "markdown",
   "metadata": {},
   "source": [
    "#### Put Results in Dictionary\n",
    "\n",
    "Now that we have results for all five quantities, we can store them in a dictionary."
   ]
  },
  {
   "cell_type": "code",
   "execution_count": null,
   "metadata": {},
   "outputs": [],
   "source": [
    "headers = ['movie title', 'domestic total gross',\n",
    "           'runtime (mins)', 'rating', 'release date']\n",
    "\n",
    "movie_data = []\n",
    "movie_dict = dict(zip(headers, [title,\n",
    "                                domestic_total_gross,\n",
    "                                runtime,\n",
    "                                rating, \n",
    "                                release_date]))\n",
    "\n",
    "movie_data.append(movie_dict)\n",
    "movie_data"
   ]
  },
  {
   "cell_type": "markdown",
   "metadata": {},
   "source": [
    "### Scraping Tables\n",
    "\n",
    "Let's take a look at the [top grisham movies](https://www.boxofficemojo.com/brand/bn3648190978/?ref_=bo_bns_table_26) of Box Office Mojo.\n",
    "\n",
    "First request the HTML and parse it with Beautiful Soup."
   ]
  },
  {
   "cell_type": "code",
   "execution_count": 92,
   "metadata": {},
   "outputs": [],
   "source": [
    "url = 'https://www.boxofficemojo.com/brand/bn3648190978/?ref_=bo_bns_table_26'\n",
    "\n",
    "response = requests.get(url)\n",
    "page = response.text\n",
    "soup = BeautifulSoup(page,\"lxml\")"
   ]
  },
  {
   "cell_type": "markdown",
   "metadata": {},
   "source": [
    "Now find the main table; its the only `table` on the page."
   ]
  },
  {
   "cell_type": "code",
   "execution_count": 91,
   "metadata": {},
   "outputs": [
    {
     "data": {
      "text/plain": [
       "<table class=\"a-bordered a-horizontal-stripes a-size-base a-span12 mojo-body-table mojo-table-annotated\"><tr><th class=\"a-text-right mojo-field-type-rank mojo-sortable-column a-nowrap\"><span title=\"Rank\">Rank</span>\n",
       "</th><th class=\"a-text-left mojo-field-type-release mojo-cell-wide mojo-sortable-column a-nowrap\"><span title=\"Release\">Release</span>\n",
       "</th><th class=\"a-text-right mojo-field-type-money mojo-sort-column mojo-sortable-column mojo-estimatable a-nowrap\"><a class=\"a-link-normal a-nowrap\" href=\"?sortDir=asc&amp;sort=grossToDate&amp;ref_=bo_bn__resort#table\" title=\"Lifetime Gross\"><span class=\"a-color-state\">Lifetime Gross</span><span class=\"a-letter-space\"></span><span class=\"icon aok-relative\"><i class=\"a-icon a-icon-expand\" role=\"presentation\"></i></span></a></th><th class=\"a-text-right mojo-field-type-positive_integer mojo-sortable-column a-nowrap\"><a class=\"a-link-normal a-nowrap\" href=\"?sort=maxNumTheaters&amp;ref_=bo_bn__resort#table\" title=\"Max Theaters\">Max Theaters<span class=\"a-letter-space\"></span><span class=\"icon aok-relative\"><i class=\"a-icon a-icon-expand table-sort-desc-placeholder\" role=\"presentation\"></i><i class=\"a-icon a-icon-collapse table-sort-asc-placeholder\" role=\"presentation\"></i></span></a></th><th class=\"a-text-right mojo-field-type-money mojo-sortable-column a-nowrap\"><a class=\"a-link-normal a-nowrap\" href=\"?sort=openingWeekendGross&amp;ref_=bo_bn__resort#table\" title=\"Opening\">Opening<span class=\"a-letter-space\"></span><span class=\"icon aok-relative\"><i class=\"a-icon a-icon-expand table-sort-desc-placeholder\" role=\"presentation\"></i><i class=\"a-icon a-icon-collapse table-sort-asc-placeholder\" role=\"presentation\"></i></span></a></th><th class=\"a-text-right mojo-field-type-positive_integer mojo-sortable-column a-nowrap\"><a class=\"a-link-normal a-nowrap\" href=\"?sort=openingNumTheaters&amp;ref_=bo_bn__resort#table\" title=\"Opening Number of Theaters\">Open Th<span class=\"a-letter-space\"></span><span class=\"icon aok-relative\"><i class=\"a-icon a-icon-expand table-sort-desc-placeholder\" role=\"presentation\"></i><i class=\"a-icon a-icon-collapse table-sort-asc-placeholder\" role=\"presentation\"></i></span></a></th><th class=\"a-text-left mojo-field-type-date mojo-sortable-column a-nowrap\"><a class=\"a-link-normal a-nowrap\" href=\"?sort=releaseDate&amp;ref_=bo_bn__resort#table\" title=\"Release Date\">Release Date<span class=\"a-letter-space\"></span><span class=\"icon aok-relative\"><i class=\"a-icon a-icon-expand table-sort-desc-placeholder\" role=\"presentation\"></i><i class=\"a-icon a-icon-collapse table-sort-asc-placeholder\" role=\"presentation\"></i></span></a></th><th class=\"a-text-left mojo-field-type-release_studios mojo-sortable-column a-nowrap\"><span title=\"Distributor\">Distributor</span>\n",
       "</th><th class=\"a-text-right mojo-field-type-boolean hidden mojo-sortable-column hidden a-nowrap\"><span title=\"Estimated\">Estimated</span>\n",
       "</th></tr><tr class=\"mojo-annotation-isEstimated\"><td class=\"a-text-right mojo-header-column mojo-truncate mojo-field-type-rank\">1</td><td class=\"a-text-left mojo-field-type-release mojo-cell-wide\"><a class=\"a-link-normal\" href=\"/release/rl2186511873/?ref_=bo_bn_table_1\">The Firm</a></td><td class=\"a-text-right mojo-field-type-money mojo-sort-column mojo-estimatable\">$158,348,367</td><td class=\"a-text-right mojo-field-type-positive_integer\">2,393</td><td class=\"a-text-right mojo-field-type-money\">$25,400,000</td><td class=\"a-text-right mojo-field-type-positive_integer\">2,393</td><td class=\"a-text-left mojo-field-type-date a-nowrap\"><a class=\"a-link-normal\" href=\"/date/1993-07-02/?ref_=bo_bn_table_1\">Jul 2, 1993</a></td><td class=\"a-text-left mojo-field-type-release_studios\"><a class=\"a-link-normal\" href=\"https://pro.imdb.com/company/co0023400/boxoffice/?view=releases&amp;ref_=mojo_bn_table_1&amp;rf=mojo_bn_table_1\" rel=\"noopener\" target=\"_blank\">Paramount Pictures<svg class=\"mojo-new-window-svg\" viewbox=\"0 0 32 32\" xmlns=\"http://www.w3.org/2000/svg\">\n",
       "<path d=\"M24,15.57251l3,3V23.5A3.50424,3.50424,0,0,1,23.5,27H8.5A3.50424,3.50424,0,0,1,5,23.5V8.5A3.50424,3.50424,0,0,1,8.5,5h4.92755l3,3H8.5a.50641.50641,0,0,0-.5.5v15a.50641.50641,0,0,0,.5.5h15a.50641.50641,0,0,0,.5-.5ZM19.81952,8.56372,12.8844,17.75a.49989.49989,0,0,0,.04547.65479l.66534.66528a.49983.49983,0,0,0,.65479.04553l9.18628-6.93518,2.12579,2.12585a.5.5,0,0,0,.84741-.27526l1.48273-9.35108a.50006.50006,0,0,0-.57214-.57214L17.969,5.59058a.5.5,0,0,0-.27526.84741Z\"></path>\n",
       "</svg></a></td><td class=\"a-text-right mojo-field-type-boolean hidden\">true</td></tr><tr><td class=\"a-text-right mojo-header-column mojo-truncate mojo-field-type-rank\">2</td><td class=\"a-text-left mojo-field-type-release mojo-cell-wide\"><a class=\"a-link-normal\" href=\"/release/rl3933505025/?ref_=bo_bn_table_2\">A Time to Kill</a></td><td class=\"a-text-right mojo-field-type-money mojo-sort-column mojo-estimatable\">$108,766,007</td><td class=\"a-text-right mojo-field-type-positive_integer\">2,313</td><td class=\"a-text-right mojo-field-type-money\">$14,823,159</td><td class=\"a-text-right mojo-field-type-positive_integer\">2,123</td><td class=\"a-text-left mojo-field-type-date a-nowrap\"><a class=\"a-link-normal\" href=\"/date/1996-07-24/?ref_=bo_bn_table_2\">Jul 24, 1996</a></td><td class=\"a-text-left mojo-field-type-release_studios\"><a class=\"a-link-normal\" href=\"https://pro.imdb.com/company/co0002663/boxoffice/?view=releases&amp;ref_=mojo_bn_table_2&amp;rf=mojo_bn_table_2\" rel=\"noopener\" target=\"_blank\">Warner Bros.<svg class=\"mojo-new-window-svg\" viewbox=\"0 0 32 32\" xmlns=\"http://www.w3.org/2000/svg\">\n",
       "<path d=\"M24,15.57251l3,3V23.5A3.50424,3.50424,0,0,1,23.5,27H8.5A3.50424,3.50424,0,0,1,5,23.5V8.5A3.50424,3.50424,0,0,1,8.5,5h4.92755l3,3H8.5a.50641.50641,0,0,0-.5.5v15a.50641.50641,0,0,0,.5.5h15a.50641.50641,0,0,0,.5-.5ZM19.81952,8.56372,12.8844,17.75a.49989.49989,0,0,0,.04547.65479l.66534.66528a.49983.49983,0,0,0,.65479.04553l9.18628-6.93518,2.12579,2.12585a.5.5,0,0,0,.84741-.27526l1.48273-9.35108a.50006.50006,0,0,0-.57214-.57214L17.969,5.59058a.5.5,0,0,0-.27526.84741Z\"></path>\n",
       "</svg></a></td><td class=\"a-text-right mojo-field-type-boolean hidden\">false</td></tr><tr><td class=\"a-text-right mojo-header-column mojo-truncate mojo-field-type-rank\">3</td><td class=\"a-text-left mojo-field-type-release mojo-cell-wide\"><a class=\"a-link-normal\" href=\"/release/rl426280449/?ref_=bo_bn_table_3\">The Pelican Brief</a></td><td class=\"a-text-right mojo-field-type-money mojo-sort-column mojo-estimatable\">$100,768,056</td><td class=\"a-text-right mojo-field-type-positive_integer\">2,022</td><td class=\"a-text-right mojo-field-type-money\">$16,864,404</td><td class=\"a-text-right mojo-field-type-positive_integer\">1,993</td><td class=\"a-text-left mojo-field-type-date a-nowrap\"><a class=\"a-link-normal\" href=\"/date/1993-12-17/?ref_=bo_bn_table_3\">Dec 17, 1993</a></td><td class=\"a-text-left mojo-field-type-release_studios\"><a class=\"a-link-normal\" href=\"https://pro.imdb.com/company/co0002663/boxoffice/?view=releases&amp;ref_=mojo_bn_table_3&amp;rf=mojo_bn_table_3\" rel=\"noopener\" target=\"_blank\">Warner Bros.<svg class=\"mojo-new-window-svg\" viewbox=\"0 0 32 32\" xmlns=\"http://www.w3.org/2000/svg\">\n",
       "<path d=\"M24,15.57251l3,3V23.5A3.50424,3.50424,0,0,1,23.5,27H8.5A3.50424,3.50424,0,0,1,5,23.5V8.5A3.50424,3.50424,0,0,1,8.5,5h4.92755l3,3H8.5a.50641.50641,0,0,0-.5.5v15a.50641.50641,0,0,0,.5.5h15a.50641.50641,0,0,0,.5-.5ZM19.81952,8.56372,12.8844,17.75a.49989.49989,0,0,0,.04547.65479l.66534.66528a.49983.49983,0,0,0,.65479.04553l9.18628-6.93518,2.12579,2.12585a.5.5,0,0,0,.84741-.27526l1.48273-9.35108a.50006.50006,0,0,0-.57214-.57214L17.969,5.59058a.5.5,0,0,0-.27526.84741Z\"></path>\n",
       "</svg></a></td><td class=\"a-text-right mojo-field-type-boolean hidden\">false</td></tr><tr><td class=\"a-text-right mojo-header-column mojo-truncate mojo-field-type-rank\">4</td><td class=\"a-text-left mojo-field-type-release mojo-cell-wide\"><a class=\"a-link-normal\" href=\"/release/rl575309313/?ref_=bo_bn_table_4\">The Client</a></td><td class=\"a-text-right mojo-field-type-money mojo-sort-column mojo-estimatable\">$92,115,211</td><td class=\"a-text-right mojo-field-type-positive_integer\">2,365</td><td class=\"a-text-right mojo-field-type-money\">$17,174,262</td><td class=\"a-text-right mojo-field-type-positive_integer\">2,052</td><td class=\"a-text-left mojo-field-type-date a-nowrap\"><a class=\"a-link-normal\" href=\"/date/1994-07-22/?ref_=bo_bn_table_4\">Jul 22, 1994</a></td><td class=\"a-text-left mojo-field-type-release_studios\"><a class=\"a-link-normal\" href=\"https://pro.imdb.com/company/co0002663/boxoffice/?view=releases&amp;ref_=mojo_bn_table_4&amp;rf=mojo_bn_table_4\" rel=\"noopener\" target=\"_blank\">Warner Bros.<svg class=\"mojo-new-window-svg\" viewbox=\"0 0 32 32\" xmlns=\"http://www.w3.org/2000/svg\">\n",
       "<path d=\"M24,15.57251l3,3V23.5A3.50424,3.50424,0,0,1,23.5,27H8.5A3.50424,3.50424,0,0,1,5,23.5V8.5A3.50424,3.50424,0,0,1,8.5,5h4.92755l3,3H8.5a.50641.50641,0,0,0-.5.5v15a.50641.50641,0,0,0,.5.5h15a.50641.50641,0,0,0,.5-.5ZM19.81952,8.56372,12.8844,17.75a.49989.49989,0,0,0,.04547.65479l.66534.66528a.49983.49983,0,0,0,.65479.04553l9.18628-6.93518,2.12579,2.12585a.5.5,0,0,0,.84741-.27526l1.48273-9.35108a.50006.50006,0,0,0-.57214-.57214L17.969,5.59058a.5.5,0,0,0-.27526.84741Z\"></path>\n",
       "</svg></a></td><td class=\"a-text-right mojo-field-type-boolean hidden\">false</td></tr><tr><td class=\"a-text-right mojo-header-column mojo-truncate mojo-field-type-rank\">5</td><td class=\"a-text-left mojo-field-type-release mojo-cell-wide\"><a class=\"a-link-normal\" href=\"/release/rl2806744577/?ref_=bo_bn_table_5\">Christmas with the Kranks</a></td><td class=\"a-text-right mojo-field-type-money mojo-sort-column mojo-estimatable\">$73,780,539</td><td class=\"a-text-right mojo-field-type-positive_integer\">3,416</td><td class=\"a-text-right mojo-field-type-money\">$21,570,867</td><td class=\"a-text-right mojo-field-type-positive_integer\">3,393</td><td class=\"a-text-left mojo-field-type-date a-nowrap\"><a class=\"a-link-normal\" href=\"/date/2004-11-24/?ref_=bo_bn_table_5\">Nov 24, 2004</a></td><td class=\"a-text-left mojo-field-type-release_studios\"><a class=\"a-link-normal\" href=\"https://pro.imdb.com/company/co0003580/boxoffice/?view=releases&amp;ref_=mojo_bn_table_5&amp;rf=mojo_bn_table_5\" rel=\"noopener\" target=\"_blank\">Revolution Studios<svg class=\"mojo-new-window-svg\" viewbox=\"0 0 32 32\" xmlns=\"http://www.w3.org/2000/svg\">\n",
       "<path d=\"M24,15.57251l3,3V23.5A3.50424,3.50424,0,0,1,23.5,27H8.5A3.50424,3.50424,0,0,1,5,23.5V8.5A3.50424,3.50424,0,0,1,8.5,5h4.92755l3,3H8.5a.50641.50641,0,0,0-.5.5v15a.50641.50641,0,0,0,.5.5h15a.50641.50641,0,0,0,.5-.5ZM19.81952,8.56372,12.8844,17.75a.49989.49989,0,0,0,.04547.65479l.66534.66528a.49983.49983,0,0,0,.65479.04553l9.18628-6.93518,2.12579,2.12585a.5.5,0,0,0,.84741-.27526l1.48273-9.35108a.50006.50006,0,0,0-.57214-.57214L17.969,5.59058a.5.5,0,0,0-.27526.84741Z\"></path>\n",
       "</svg></a></td><td class=\"a-text-right mojo-field-type-boolean hidden\">false</td></tr><tr><td class=\"a-text-right mojo-header-column mojo-truncate mojo-field-type-rank\">6</td><td class=\"a-text-left mojo-field-type-release mojo-cell-wide\"><a class=\"a-link-normal\" href=\"/release/rl946832897/?ref_=bo_bn_table_6\">Runaway Jury</a></td><td class=\"a-text-right mojo-field-type-money mojo-sort-column mojo-estimatable\">$49,443,628</td><td class=\"a-text-right mojo-field-type-positive_integer\">2,815</td><td class=\"a-text-right mojo-field-type-money\">$11,836,705</td><td class=\"a-text-right mojo-field-type-positive_integer\">2,815</td><td class=\"a-text-left mojo-field-type-date a-nowrap\"><a class=\"a-link-normal\" href=\"/date/2003-10-17/?ref_=bo_bn_table_6\">Oct 17, 2003</a></td><td class=\"a-text-left mojo-field-type-release_studios\"><a class=\"a-link-normal\" href=\"https://pro.imdb.com/company/co0000756/boxoffice/?view=releases&amp;ref_=mojo_bn_table_6&amp;rf=mojo_bn_table_6\" rel=\"noopener\" target=\"_blank\">Twentieth Century Fox<svg class=\"mojo-new-window-svg\" viewbox=\"0 0 32 32\" xmlns=\"http://www.w3.org/2000/svg\">\n",
       "<path d=\"M24,15.57251l3,3V23.5A3.50424,3.50424,0,0,1,23.5,27H8.5A3.50424,3.50424,0,0,1,5,23.5V8.5A3.50424,3.50424,0,0,1,8.5,5h4.92755l3,3H8.5a.50641.50641,0,0,0-.5.5v15a.50641.50641,0,0,0,.5.5h15a.50641.50641,0,0,0,.5-.5ZM19.81952,8.56372,12.8844,17.75a.49989.49989,0,0,0,.04547.65479l.66534.66528a.49983.49983,0,0,0,.65479.04553l9.18628-6.93518,2.12579,2.12585a.5.5,0,0,0,.84741-.27526l1.48273-9.35108a.50006.50006,0,0,0-.57214-.57214L17.969,5.59058a.5.5,0,0,0-.27526.84741Z\"></path>\n",
       "</svg></a></td><td class=\"a-text-right mojo-field-type-boolean hidden\">false</td></tr><tr><td class=\"a-text-right mojo-header-column mojo-truncate mojo-field-type-rank\">7</td><td class=\"a-text-left mojo-field-type-release mojo-cell-wide\"><a class=\"a-link-normal\" href=\"/release/rl3983181313/?ref_=bo_bn_table_7\">The Rainmaker</a></td><td class=\"a-text-right mojo-field-type-money mojo-sort-column mojo-estimatable\">$45,916,769</td><td class=\"a-text-right mojo-field-type-positive_integer\">2,369</td><td class=\"a-text-right mojo-field-type-money\">$10,626,507</td><td class=\"a-text-right mojo-field-type-positive_integer\">2,317</td><td class=\"a-text-left mojo-field-type-date a-nowrap\"><a class=\"a-link-normal\" href=\"/date/1997-11-21/?ref_=bo_bn_table_7\">Nov 21, 1997</a></td><td class=\"a-text-left mojo-field-type-release_studios\"><a class=\"a-link-normal\" href=\"https://pro.imdb.com/company/co0023400/boxoffice/?view=releases&amp;ref_=mojo_bn_table_7&amp;rf=mojo_bn_table_7\" rel=\"noopener\" target=\"_blank\">Paramount Pictures<svg class=\"mojo-new-window-svg\" viewbox=\"0 0 32 32\" xmlns=\"http://www.w3.org/2000/svg\">\n",
       "<path d=\"M24,15.57251l3,3V23.5A3.50424,3.50424,0,0,1,23.5,27H8.5A3.50424,3.50424,0,0,1,5,23.5V8.5A3.50424,3.50424,0,0,1,8.5,5h4.92755l3,3H8.5a.50641.50641,0,0,0-.5.5v15a.50641.50641,0,0,0,.5.5h15a.50641.50641,0,0,0,.5-.5ZM19.81952,8.56372,12.8844,17.75a.49989.49989,0,0,0,.04547.65479l.66534.66528a.49983.49983,0,0,0,.65479.04553l9.18628-6.93518,2.12579,2.12585a.5.5,0,0,0,.84741-.27526l1.48273-9.35108a.50006.50006,0,0,0-.57214-.57214L17.969,5.59058a.5.5,0,0,0-.27526.84741Z\"></path>\n",
       "</svg></a></td><td class=\"a-text-right mojo-field-type-boolean hidden\">false</td></tr><tr><td class=\"a-text-right mojo-header-column mojo-truncate mojo-field-type-rank\">8</td><td class=\"a-text-left mojo-field-type-release mojo-cell-wide\"><a class=\"a-link-normal\" href=\"/release/rl3225978369/?ref_=bo_bn_table_8\">The Chamber</a></td><td class=\"a-text-right mojo-field-type-money mojo-sort-column mojo-estimatable\">$14,551,359</td><td class=\"a-text-right mojo-field-type-positive_integer\">2,032</td><td class=\"a-text-right mojo-field-type-money\">$5,612,095</td><td class=\"a-text-right mojo-field-type-positive_integer\">2,026</td><td class=\"a-text-left mojo-field-type-date a-nowrap\"><a class=\"a-link-normal\" href=\"/date/1996-10-11/?ref_=bo_bn_table_8\">Oct 11, 1996</a></td><td class=\"a-text-left mojo-field-type-release_studios\"><a class=\"a-link-normal\" href=\"https://pro.imdb.com/company/co0005073/boxoffice/?view=releases&amp;ref_=mojo_bn_table_8&amp;rf=mojo_bn_table_8\" rel=\"noopener\" target=\"_blank\">Universal Pictures<svg class=\"mojo-new-window-svg\" viewbox=\"0 0 32 32\" xmlns=\"http://www.w3.org/2000/svg\">\n",
       "<path d=\"M24,15.57251l3,3V23.5A3.50424,3.50424,0,0,1,23.5,27H8.5A3.50424,3.50424,0,0,1,5,23.5V8.5A3.50424,3.50424,0,0,1,8.5,5h4.92755l3,3H8.5a.50641.50641,0,0,0-.5.5v15a.50641.50641,0,0,0,.5.5h15a.50641.50641,0,0,0,.5-.5ZM19.81952,8.56372,12.8844,17.75a.49989.49989,0,0,0,.04547.65479l.66534.66528a.49983.49983,0,0,0,.65479.04553l9.18628-6.93518,2.12579,2.12585a.5.5,0,0,0,.84741-.27526l1.48273-9.35108a.50006.50006,0,0,0-.57214-.57214L17.969,5.59058a.5.5,0,0,0-.27526.84741Z\"></path>\n",
       "</svg></a></td><td class=\"a-text-right mojo-field-type-boolean hidden\">false</td></tr><tr><td class=\"a-text-right mojo-header-column mojo-truncate mojo-field-type-rank\">9</td><td class=\"a-text-left mojo-field-type-release mojo-cell-wide\"><a class=\"a-link-normal\" href=\"/release/rl928286209/?ref_=bo_bn_table_9\">The Gingerbread Man</a></td><td class=\"a-text-right mojo-field-type-money mojo-sort-column mojo-estimatable\">$1,677,131</td><td class=\"a-text-right mojo-field-type-positive_integer\">30</td><td class=\"a-text-right mojo-field-type-money\">$118,278</td><td class=\"a-text-right mojo-field-type-positive_integer\">8</td><td class=\"a-text-left mojo-field-type-date a-nowrap\"><a class=\"a-link-normal\" href=\"/date/1998-01-23/?ref_=bo_bn_table_9\">Jan 23, 1998</a></td><td class=\"a-text-left mojo-field-type-release_studios\"><a class=\"a-link-normal\" href=\"https://pro.imdb.com/company/co0009944/boxoffice/?view=releases&amp;ref_=mojo_bn_table_9&amp;rf=mojo_bn_table_9\" rel=\"noopener\" target=\"_blank\">PolyGram<svg class=\"mojo-new-window-svg\" viewbox=\"0 0 32 32\" xmlns=\"http://www.w3.org/2000/svg\">\n",
       "<path d=\"M24,15.57251l3,3V23.5A3.50424,3.50424,0,0,1,23.5,27H8.5A3.50424,3.50424,0,0,1,5,23.5V8.5A3.50424,3.50424,0,0,1,8.5,5h4.92755l3,3H8.5a.50641.50641,0,0,0-.5.5v15a.50641.50641,0,0,0,.5.5h15a.50641.50641,0,0,0,.5-.5ZM19.81952,8.56372,12.8844,17.75a.49989.49989,0,0,0,.04547.65479l.66534.66528a.49983.49983,0,0,0,.65479.04553l9.18628-6.93518,2.12579,2.12585a.5.5,0,0,0,.84741-.27526l1.48273-9.35108a.50006.50006,0,0,0-.57214-.57214L17.969,5.59058a.5.5,0,0,0-.27526.84741Z\"></path>\n",
       "</svg></a></td><td class=\"a-text-right mojo-field-type-boolean hidden\">false</td></tr><tr><td class=\"a-text-right mojo-header-column mojo-truncate mojo-field-type-rank\">10</td><td class=\"a-text-left mojo-field-type-release mojo-cell-wide\"><a class=\"a-link-normal\" href=\"/release/rl1164084737/?ref_=bo_bn_table_10\">Mickey</a></td><td class=\"a-text-right mojo-field-type-money mojo-sort-column mojo-estimatable\">$294,758</td><td class=\"a-text-right mojo-field-type-positive_integer\">76</td><td class=\"a-text-right mojo-field-type-money\">$75,235</td><td class=\"a-text-right mojo-field-type-positive_integer\">42</td><td class=\"a-text-left mojo-field-type-date a-nowrap\"><a class=\"a-link-normal\" href=\"/date/2004-04-30/?ref_=bo_bn_table_10\">Apr 30, 2004</a></td><td class=\"a-text-left mojo-field-type-release_studios\"><a class=\"a-link-normal\" href=\"https://pro.imdb.com/company/co0146166/boxoffice/?view=releases&amp;ref_=mojo_bn_table_10&amp;rf=mojo_bn_table_10\" rel=\"noopener\" target=\"_blank\">Slugger Pictures<svg class=\"mojo-new-window-svg\" viewbox=\"0 0 32 32\" xmlns=\"http://www.w3.org/2000/svg\">\n",
       "<path d=\"M24,15.57251l3,3V23.5A3.50424,3.50424,0,0,1,23.5,27H8.5A3.50424,3.50424,0,0,1,5,23.5V8.5A3.50424,3.50424,0,0,1,8.5,5h4.92755l3,3H8.5a.50641.50641,0,0,0-.5.5v15a.50641.50641,0,0,0,.5.5h15a.50641.50641,0,0,0,.5-.5ZM19.81952,8.56372,12.8844,17.75a.49989.49989,0,0,0,.04547.65479l.66534.66528a.49983.49983,0,0,0,.65479.04553l9.18628-6.93518,2.12579,2.12585a.5.5,0,0,0,.84741-.27526l1.48273-9.35108a.50006.50006,0,0,0-.57214-.57214L17.969,5.59058a.5.5,0,0,0-.27526.84741Z\"></path>\n",
       "</svg></a></td><td class=\"a-text-right mojo-field-type-boolean hidden\">false</td></tr></table>"
      ]
     },
     "execution_count": 91,
     "metadata": {},
     "output_type": "execute_result"
    }
   ],
   "source": [
    "table = soup.find('table')\n",
    "table"
   ]
  },
  {
   "cell_type": "code",
   "execution_count": 93,
   "metadata": {},
   "outputs": [],
   "source": [
    "rows = [row for row in table.find_all('tr')]  # tr tag is for rows"
   ]
  },
  {
   "cell_type": "markdown",
   "metadata": {},
   "source": [
    "Each row contains the information we want but requires more parsing."
   ]
  },
  {
   "cell_type": "code",
   "execution_count": 94,
   "metadata": {},
   "outputs": [
    {
     "data": {
      "text/plain": [
       "<tr class=\"mojo-annotation-isEstimated\"><td class=\"a-text-right mojo-header-column mojo-truncate mojo-field-type-rank\">1</td><td class=\"a-text-left mojo-field-type-release mojo-cell-wide\"><a class=\"a-link-normal\" href=\"/release/rl2186511873/?ref_=bo_bn_table_1\">The Firm</a></td><td class=\"a-text-right mojo-field-type-money mojo-sort-column mojo-estimatable\">$158,348,367</td><td class=\"a-text-right mojo-field-type-positive_integer\">2,393</td><td class=\"a-text-right mojo-field-type-money\">$25,400,000</td><td class=\"a-text-right mojo-field-type-positive_integer\">2,393</td><td class=\"a-text-left mojo-field-type-date a-nowrap\"><a class=\"a-link-normal\" href=\"/date/1993-07-02/?ref_=bo_bn_table_1\">Jul 2, 1993</a></td><td class=\"a-text-left mojo-field-type-release_studios\"><a class=\"a-link-normal\" href=\"https://pro.imdb.com/company/co0023400/boxoffice/?view=releases&amp;ref_=mojo_bn_table_1&amp;rf=mojo_bn_table_1\" rel=\"noopener\" target=\"_blank\">Paramount Pictures<svg class=\"mojo-new-window-svg\" viewbox=\"0 0 32 32\" xmlns=\"http://www.w3.org/2000/svg\">\n",
       "<path d=\"M24,15.57251l3,3V23.5A3.50424,3.50424,0,0,1,23.5,27H8.5A3.50424,3.50424,0,0,1,5,23.5V8.5A3.50424,3.50424,0,0,1,8.5,5h4.92755l3,3H8.5a.50641.50641,0,0,0-.5.5v15a.50641.50641,0,0,0,.5.5h15a.50641.50641,0,0,0,.5-.5ZM19.81952,8.56372,12.8844,17.75a.49989.49989,0,0,0,.04547.65479l.66534.66528a.49983.49983,0,0,0,.65479.04553l9.18628-6.93518,2.12579,2.12585a.5.5,0,0,0,.84741-.27526l1.48273-9.35108a.50006.50006,0,0,0-.57214-.57214L17.969,5.59058a.5.5,0,0,0-.27526.84741Z\"></path>\n",
       "</svg></a></td><td class=\"a-text-right mojo-field-type-boolean hidden\">true</td></tr>"
      ]
     },
     "execution_count": 94,
     "metadata": {},
     "output_type": "execute_result"
    }
   ],
   "source": [
    "rows[1]"
   ]
  },
  {
   "cell_type": "markdown",
   "metadata": {},
   "source": [
    "Remember: you can chain methods together to look for information!"
   ]
  },
  {
   "cell_type": "code",
   "execution_count": 125,
   "metadata": {},
   "outputs": [
    {
     "data": {
      "text/plain": [
       "'/release/rl2186511873/?ref_=bo_bn_table_1'"
      ]
     },
     "execution_count": 125,
     "metadata": {},
     "output_type": "execute_result"
    }
   ],
   "source": [
    "# Needed to change this to column 1 if you look above\n",
    "rows[1].find_all('td')[1].find('a')['href']"
   ]
  },
  {
   "cell_type": "markdown",
   "metadata": {},
   "source": [
    "#### Now grab data for the first 10 movies with a loop."
   ]
  },
  {
   "cell_type": "code",
   "execution_count": 100,
   "metadata": {
    "scrolled": true
   },
   "outputs": [
    {
     "data": {
      "text/plain": [
       "{'The Firm': ['/release/rl2186511873/?ref_=bo_bn_table_1',\n",
       "  '1',\n",
       "  'The Firm',\n",
       "  '$158,348,367',\n",
       "  '2,393',\n",
       "  '$25,400,000',\n",
       "  '2,393',\n",
       "  'Jul 2, 1993',\n",
       "  'Paramount Pictures\\n\\n',\n",
       "  'true'],\n",
       " 'A Time to Kill': ['/release/rl3933505025/?ref_=bo_bn_table_2',\n",
       "  '2',\n",
       "  'A Time to Kill',\n",
       "  '$108,766,007',\n",
       "  '2,313',\n",
       "  '$14,823,159',\n",
       "  '2,123',\n",
       "  'Jul 24, 1996',\n",
       "  'Warner Bros.\\n\\n',\n",
       "  'false'],\n",
       " 'The Pelican Brief': ['/release/rl426280449/?ref_=bo_bn_table_3',\n",
       "  '3',\n",
       "  'The Pelican Brief',\n",
       "  '$100,768,056',\n",
       "  '2,022',\n",
       "  '$16,864,404',\n",
       "  '1,993',\n",
       "  'Dec 17, 1993',\n",
       "  'Warner Bros.\\n\\n',\n",
       "  'false'],\n",
       " 'The Client': ['/release/rl575309313/?ref_=bo_bn_table_4',\n",
       "  '4',\n",
       "  'The Client',\n",
       "  '$92,115,211',\n",
       "  '2,365',\n",
       "  '$17,174,262',\n",
       "  '2,052',\n",
       "  'Jul 22, 1994',\n",
       "  'Warner Bros.\\n\\n',\n",
       "  'false'],\n",
       " 'Christmas with the Kranks': ['/release/rl2806744577/?ref_=bo_bn_table_5',\n",
       "  '5',\n",
       "  'Christmas with the Kranks',\n",
       "  '$73,780,539',\n",
       "  '3,416',\n",
       "  '$21,570,867',\n",
       "  '3,393',\n",
       "  'Nov 24, 2004',\n",
       "  'Revolution Studios\\n\\n',\n",
       "  'false'],\n",
       " 'Runaway Jury': ['/release/rl946832897/?ref_=bo_bn_table_6',\n",
       "  '6',\n",
       "  'Runaway Jury',\n",
       "  '$49,443,628',\n",
       "  '2,815',\n",
       "  '$11,836,705',\n",
       "  '2,815',\n",
       "  'Oct 17, 2003',\n",
       "  'Twentieth Century Fox\\n\\n',\n",
       "  'false'],\n",
       " 'The Rainmaker': ['/release/rl3983181313/?ref_=bo_bn_table_7',\n",
       "  '7',\n",
       "  'The Rainmaker',\n",
       "  '$45,916,769',\n",
       "  '2,369',\n",
       "  '$10,626,507',\n",
       "  '2,317',\n",
       "  'Nov 21, 1997',\n",
       "  'Paramount Pictures\\n\\n',\n",
       "  'false'],\n",
       " 'The Chamber': ['/release/rl3225978369/?ref_=bo_bn_table_8',\n",
       "  '8',\n",
       "  'The Chamber',\n",
       "  '$14,551,359',\n",
       "  '2,032',\n",
       "  '$5,612,095',\n",
       "  '2,026',\n",
       "  'Oct 11, 1996',\n",
       "  'Universal Pictures\\n\\n',\n",
       "  'false'],\n",
       " 'The Gingerbread Man': ['/release/rl928286209/?ref_=bo_bn_table_9',\n",
       "  '9',\n",
       "  'The Gingerbread Man',\n",
       "  '$1,677,131',\n",
       "  '30',\n",
       "  '$118,278',\n",
       "  '8',\n",
       "  'Jan 23, 1998',\n",
       "  'PolyGram\\n\\n',\n",
       "  'false'],\n",
       " 'Mickey': ['/release/rl1164084737/?ref_=bo_bn_table_10',\n",
       "  '10',\n",
       "  'Mickey',\n",
       "  '$294,758',\n",
       "  '76',\n",
       "  '$75,235',\n",
       "  '42',\n",
       "  'Apr 30, 2004',\n",
       "  'Slugger Pictures\\n\\n',\n",
       "  'false']}"
      ]
     },
     "execution_count": 100,
     "metadata": {},
     "output_type": "execute_result"
    }
   ],
   "source": [
    "movies = {}\n",
    "\n",
    "for row in rows[1:11]:\n",
    "    items = row.find_all('td')\n",
    "    link = items[1].find('a')\n",
    "    title, url = link.text, link['href']\n",
    "    movies[title] = [url] + [i.text for i in items]\n",
    "    \n",
    "movies"
   ]
  },
  {
   "cell_type": "code",
   "execution_count": null,
   "metadata": {},
   "outputs": [],
   "source": []
  },
  {
   "cell_type": "markdown",
   "metadata": {},
   "source": [
    "### Scraping Multiple Pages\n",
    "\n",
    "Now that we have the links for several Holiday movies we can visit each link to extract even more information about each movie.  Let's use `pandas` to help."
   ]
  },
  {
   "cell_type": "code",
   "execution_count": 61,
   "metadata": {},
   "outputs": [],
   "source": [
    "import pandas as pd"
   ]
  },
  {
   "cell_type": "code",
   "execution_count": 102,
   "metadata": {},
   "outputs": [],
   "source": [
    "g_movies = pd.DataFrame(movies).T  #transpose\n",
    "g_movies.columns\n",
    "g_movies.columns = ['link_stub','rank','release','ltgross','maxtheatre','opening','openth','releasedate','distributor','estimated']"
   ]
  },
  {
   "cell_type": "code",
   "execution_count": 103,
   "metadata": {},
   "outputs": [
    {
     "data": {
      "text/html": [
       "<div>\n",
       "<style scoped>\n",
       "    .dataframe tbody tr th:only-of-type {\n",
       "        vertical-align: middle;\n",
       "    }\n",
       "\n",
       "    .dataframe tbody tr th {\n",
       "        vertical-align: top;\n",
       "    }\n",
       "\n",
       "    .dataframe thead th {\n",
       "        text-align: right;\n",
       "    }\n",
       "</style>\n",
       "<table border=\"1\" class=\"dataframe\">\n",
       "  <thead>\n",
       "    <tr style=\"text-align: right;\">\n",
       "      <th></th>\n",
       "      <th>link_stub</th>\n",
       "      <th>rank</th>\n",
       "      <th>release</th>\n",
       "      <th>ltgross</th>\n",
       "      <th>maxtheatre</th>\n",
       "      <th>opening</th>\n",
       "      <th>openth</th>\n",
       "      <th>releasedate</th>\n",
       "      <th>distributor</th>\n",
       "      <th>estimated</th>\n",
       "    </tr>\n",
       "  </thead>\n",
       "  <tbody>\n",
       "    <tr>\n",
       "      <th>The Firm</th>\n",
       "      <td>/release/rl2186511873/?ref_=bo_bn_table_1</td>\n",
       "      <td>1</td>\n",
       "      <td>The Firm</td>\n",
       "      <td>$158,348,367</td>\n",
       "      <td>2,393</td>\n",
       "      <td>$25,400,000</td>\n",
       "      <td>2,393</td>\n",
       "      <td>Jul 2, 1993</td>\n",
       "      <td>Paramount Pictures\\n\\n</td>\n",
       "      <td>true</td>\n",
       "    </tr>\n",
       "    <tr>\n",
       "      <th>A Time to Kill</th>\n",
       "      <td>/release/rl3933505025/?ref_=bo_bn_table_2</td>\n",
       "      <td>2</td>\n",
       "      <td>A Time to Kill</td>\n",
       "      <td>$108,766,007</td>\n",
       "      <td>2,313</td>\n",
       "      <td>$14,823,159</td>\n",
       "      <td>2,123</td>\n",
       "      <td>Jul 24, 1996</td>\n",
       "      <td>Warner Bros.\\n\\n</td>\n",
       "      <td>false</td>\n",
       "    </tr>\n",
       "    <tr>\n",
       "      <th>The Pelican Brief</th>\n",
       "      <td>/release/rl426280449/?ref_=bo_bn_table_3</td>\n",
       "      <td>3</td>\n",
       "      <td>The Pelican Brief</td>\n",
       "      <td>$100,768,056</td>\n",
       "      <td>2,022</td>\n",
       "      <td>$16,864,404</td>\n",
       "      <td>1,993</td>\n",
       "      <td>Dec 17, 1993</td>\n",
       "      <td>Warner Bros.\\n\\n</td>\n",
       "      <td>false</td>\n",
       "    </tr>\n",
       "    <tr>\n",
       "      <th>The Client</th>\n",
       "      <td>/release/rl575309313/?ref_=bo_bn_table_4</td>\n",
       "      <td>4</td>\n",
       "      <td>The Client</td>\n",
       "      <td>$92,115,211</td>\n",
       "      <td>2,365</td>\n",
       "      <td>$17,174,262</td>\n",
       "      <td>2,052</td>\n",
       "      <td>Jul 22, 1994</td>\n",
       "      <td>Warner Bros.\\n\\n</td>\n",
       "      <td>false</td>\n",
       "    </tr>\n",
       "    <tr>\n",
       "      <th>Christmas with the Kranks</th>\n",
       "      <td>/release/rl2806744577/?ref_=bo_bn_table_5</td>\n",
       "      <td>5</td>\n",
       "      <td>Christmas with the Kranks</td>\n",
       "      <td>$73,780,539</td>\n",
       "      <td>3,416</td>\n",
       "      <td>$21,570,867</td>\n",
       "      <td>3,393</td>\n",
       "      <td>Nov 24, 2004</td>\n",
       "      <td>Revolution Studios\\n\\n</td>\n",
       "      <td>false</td>\n",
       "    </tr>\n",
       "  </tbody>\n",
       "</table>\n",
       "</div>"
      ],
      "text/plain": [
       "                                                           link_stub rank  \\\n",
       "The Firm                   /release/rl2186511873/?ref_=bo_bn_table_1    1   \n",
       "A Time to Kill             /release/rl3933505025/?ref_=bo_bn_table_2    2   \n",
       "The Pelican Brief           /release/rl426280449/?ref_=bo_bn_table_3    3   \n",
       "The Client                  /release/rl575309313/?ref_=bo_bn_table_4    4   \n",
       "Christmas with the Kranks  /release/rl2806744577/?ref_=bo_bn_table_5    5   \n",
       "\n",
       "                                             release       ltgross maxtheatre  \\\n",
       "The Firm                                    The Firm  $158,348,367      2,393   \n",
       "A Time to Kill                        A Time to Kill  $108,766,007      2,313   \n",
       "The Pelican Brief                  The Pelican Brief  $100,768,056      2,022   \n",
       "The Client                                The Client   $92,115,211      2,365   \n",
       "Christmas with the Kranks  Christmas with the Kranks   $73,780,539      3,416   \n",
       "\n",
       "                               opening openth   releasedate  \\\n",
       "The Firm                   $25,400,000  2,393   Jul 2, 1993   \n",
       "A Time to Kill             $14,823,159  2,123  Jul 24, 1996   \n",
       "The Pelican Brief          $16,864,404  1,993  Dec 17, 1993   \n",
       "The Client                 $17,174,262  2,052  Jul 22, 1994   \n",
       "Christmas with the Kranks  $21,570,867  3,393  Nov 24, 2004   \n",
       "\n",
       "                                      distributor estimated  \n",
       "The Firm                   Paramount Pictures\\n\\n      true  \n",
       "A Time to Kill                   Warner Bros.\\n\\n     false  \n",
       "The Pelican Brief                Warner Bros.\\n\\n     false  \n",
       "The Client                       Warner Bros.\\n\\n     false  \n",
       "Christmas with the Kranks  Revolution Studios\\n\\n     false  "
      ]
     },
     "execution_count": 103,
     "metadata": {},
     "output_type": "execute_result"
    }
   ],
   "source": [
    "g_movies.head()"
   ]
  },
  {
   "cell_type": "markdown",
   "metadata": {},
   "source": [
    "We'll also combine all previous steps into one helper function."
   ]
  },
  {
   "cell_type": "code",
   "execution_count": null,
   "metadata": {},
   "outputs": [],
   "source": []
  },
  {
   "cell_type": "code",
   "execution_count": null,
   "metadata": {},
   "outputs": [],
   "source": []
  },
  {
   "cell_type": "code",
   "execution_count": 108,
   "metadata": {},
   "outputs": [],
   "source": [
    "def get_movie_dict(link):\n",
    "    '''\n",
    "    From BoxOfficeMojo link stub, request movie html, parse with BeautifulSoup, and\n",
    "    collect \n",
    "        - title \n",
    "        - domestic gross\n",
    "        - runtime \n",
    "        - MPAA rating\n",
    "        - full release date\n",
    "    Return information as a dictionary.\n",
    "    '''\n",
    "    \n",
    "    base_url = 'https://www.boxofficemojo.com'\n",
    "    \n",
    "    #Create full url to scrape\n",
    "    url = base_url + link\n",
    "    \n",
    "    #Request HTML and parse\n",
    "    response = requests.get(url)\n",
    "    page = response.text\n",
    "    soup = BeautifulSoup(page,\"lxml\")\n",
    "\n",
    "    \n",
    "    headers = ['movie_title' ,# 'domestic_total_gross',\n",
    "               'runtime_minutes', 'rating',] # 'release_date']\n",
    "    \n",
    "    #Get title\n",
    "    title_string = soup.find('title').text\n",
    "    title = title_string.split('-')[0].strip()\n",
    "\n",
    "    #Get domestic gross\n",
    "    raw_domestic_total_gross = (soup.find(class_='mojo-performance-summary-table')\n",
    "                                    .find_all('span', class_='money')[0]\n",
    "                                    .text\n",
    "                               )\n",
    "    domestic_total_gross = money_to_int(raw_domestic_total_gross)\n",
    "\n",
    "    #Get runtime\n",
    "    raw_runtime = get_movie_value(soup,'Running')\n",
    "    runtime = runtime_to_minutes(raw_runtime)\n",
    "    \n",
    "    #Get rating\n",
    "    rating = get_movie_value(soup,'MPAA')\n",
    "\n",
    "    #Get release date\n",
    "    raw_release_date = get_movie_value(soup,'Release Date').split('\\n')[0]\n",
    "    release_date = to_date(raw_release_date)\n",
    "    \n",
    "    #Create movie dictionary and return\n",
    "    movie_dict = dict(zip(headers, [title,\n",
    "                                domestic_total_gross,\n",
    "                                runtime,\n",
    "                                rating, \n",
    "                                release_date\n",
    "                                   ]))\n",
    "\n",
    "    return movie_dict"
   ]
  },
  {
   "cell_type": "code",
   "execution_count": 109,
   "metadata": {},
   "outputs": [],
   "source": [
    "# LINK_STUB is the added parts to the URL\n",
    "g_movies_page_info_list = []\n",
    "\n",
    "for link in g_movies.link_stub:\n",
    "    g_movies_page_info_list.append(get_movie_dict(link))"
   ]
  },
  {
   "cell_type": "code",
   "execution_count": 110,
   "metadata": {},
   "outputs": [
    {
     "data": {
      "text/plain": [
       "[{'movie_title': 'The Firm', 'runtime_minutes': 158348367, 'rating': 154},\n",
       " {'movie_title': 'A Time to Kill',\n",
       "  'runtime_minutes': 108766007,\n",
       "  'rating': 149},\n",
       " {'movie_title': 'The Pelican Brief',\n",
       "  'runtime_minutes': 100768056,\n",
       "  'rating': 141},\n",
       " {'movie_title': 'The Client', 'runtime_minutes': 92115211, 'rating': 119},\n",
       " {'movie_title': 'Christmas with the Kranks',\n",
       "  'runtime_minutes': 73780539,\n",
       "  'rating': 99},\n",
       " {'movie_title': 'Runaway Jury', 'runtime_minutes': 49443628, 'rating': 127},\n",
       " {'movie_title': 'The Rainmaker', 'runtime_minutes': 45916769, 'rating': 135},\n",
       " {'movie_title': 'The Chamber', 'runtime_minutes': 14551359, 'rating': 113},\n",
       " {'movie_title': 'The Gingerbread Man',\n",
       "  'runtime_minutes': 1677131,\n",
       "  'rating': 114},\n",
       " {'movie_title': 'Mickey', 'runtime_minutes': 294758, 'rating': 105}]"
      ]
     },
     "execution_count": 110,
     "metadata": {},
     "output_type": "execute_result"
    }
   ],
   "source": [
    "g_movies_page_info_list"
   ]
  },
  {
   "cell_type": "code",
   "execution_count": 111,
   "metadata": {},
   "outputs": [
    {
     "data": {
      "text/html": [
       "<div>\n",
       "<style scoped>\n",
       "    .dataframe tbody tr th:only-of-type {\n",
       "        vertical-align: middle;\n",
       "    }\n",
       "\n",
       "    .dataframe tbody tr th {\n",
       "        vertical-align: top;\n",
       "    }\n",
       "\n",
       "    .dataframe thead th {\n",
       "        text-align: right;\n",
       "    }\n",
       "</style>\n",
       "<table border=\"1\" class=\"dataframe\">\n",
       "  <thead>\n",
       "    <tr style=\"text-align: right;\">\n",
       "      <th></th>\n",
       "      <th>runtime_minutes</th>\n",
       "      <th>rating</th>\n",
       "    </tr>\n",
       "    <tr>\n",
       "      <th>movie_title</th>\n",
       "      <th></th>\n",
       "      <th></th>\n",
       "    </tr>\n",
       "  </thead>\n",
       "  <tbody>\n",
       "    <tr>\n",
       "      <th>The Firm</th>\n",
       "      <td>158348367</td>\n",
       "      <td>154</td>\n",
       "    </tr>\n",
       "    <tr>\n",
       "      <th>A Time to Kill</th>\n",
       "      <td>108766007</td>\n",
       "      <td>149</td>\n",
       "    </tr>\n",
       "    <tr>\n",
       "      <th>The Pelican Brief</th>\n",
       "      <td>100768056</td>\n",
       "      <td>141</td>\n",
       "    </tr>\n",
       "    <tr>\n",
       "      <th>The Client</th>\n",
       "      <td>92115211</td>\n",
       "      <td>119</td>\n",
       "    </tr>\n",
       "    <tr>\n",
       "      <th>Christmas with the Kranks</th>\n",
       "      <td>73780539</td>\n",
       "      <td>99</td>\n",
       "    </tr>\n",
       "    <tr>\n",
       "      <th>Runaway Jury</th>\n",
       "      <td>49443628</td>\n",
       "      <td>127</td>\n",
       "    </tr>\n",
       "    <tr>\n",
       "      <th>The Rainmaker</th>\n",
       "      <td>45916769</td>\n",
       "      <td>135</td>\n",
       "    </tr>\n",
       "    <tr>\n",
       "      <th>The Chamber</th>\n",
       "      <td>14551359</td>\n",
       "      <td>113</td>\n",
       "    </tr>\n",
       "    <tr>\n",
       "      <th>The Gingerbread Man</th>\n",
       "      <td>1677131</td>\n",
       "      <td>114</td>\n",
       "    </tr>\n",
       "    <tr>\n",
       "      <th>Mickey</th>\n",
       "      <td>294758</td>\n",
       "      <td>105</td>\n",
       "    </tr>\n",
       "  </tbody>\n",
       "</table>\n",
       "</div>"
      ],
      "text/plain": [
       "                           runtime_minutes  rating\n",
       "movie_title                                       \n",
       "The Firm                         158348367     154\n",
       "A Time to Kill                   108766007     149\n",
       "The Pelican Brief                100768056     141\n",
       "The Client                        92115211     119\n",
       "Christmas with the Kranks         73780539      99\n",
       "Runaway Jury                      49443628     127\n",
       "The Rainmaker                     45916769     135\n",
       "The Chamber                       14551359     113\n",
       "The Gingerbread Man                1677131     114\n",
       "Mickey                              294758     105"
      ]
     },
     "execution_count": 111,
     "metadata": {},
     "output_type": "execute_result"
    }
   ],
   "source": [
    "g_movies_page_info = pd.DataFrame(g_movies_page_info_list)  #convert list of dict to df\n",
    "g_movies_page_info.set_index('movie_title', inplace=True)\n",
    "\n",
    "g_movies_page_info"
   ]
  },
  {
   "cell_type": "markdown",
   "metadata": {},
   "source": [
    "(Note: the rating is indeed missing from a few of these pages!  How could you fix that?)\n",
    "\n",
    "We can now match this back up with the movie information collected from the table by merging these dataframes."
   ]
  },
  {
   "cell_type": "code",
   "execution_count": 77,
   "metadata": {},
   "outputs": [
    {
     "data": {
      "text/html": [
       "<div>\n",
       "<style scoped>\n",
       "    .dataframe tbody tr th:only-of-type {\n",
       "        vertical-align: middle;\n",
       "    }\n",
       "\n",
       "    .dataframe tbody tr th {\n",
       "        vertical-align: top;\n",
       "    }\n",
       "\n",
       "    .dataframe thead th {\n",
       "        text-align: right;\n",
       "    }\n",
       "</style>\n",
       "<table border=\"1\" class=\"dataframe\">\n",
       "  <thead>\n",
       "    <tr style=\"text-align: right;\">\n",
       "      <th></th>\n",
       "      <th>link_stub</th>\n",
       "      <th>title</th>\n",
       "      <th>rank_g_movies</th>\n",
       "      <th>lifetime_gross</th>\n",
       "      <th>rank_overall</th>\n",
       "      <th>year</th>\n",
       "      <th>domestic_total_gross</th>\n",
       "      <th>runtime_minutes</th>\n",
       "      <th>rating</th>\n",
       "      <th>release_date</th>\n",
       "    </tr>\n",
       "  </thead>\n",
       "  <tbody>\n",
       "    <tr>\n",
       "      <th>Toy Story 4</th>\n",
       "      <td>/title/tt1979376/?ref_=bo_cso_table_1</td>\n",
       "      <td>Toy Story 4</td>\n",
       "      <td>1</td>\n",
       "      <td>$434,038,008</td>\n",
       "      <td>24</td>\n",
       "      <td>2019</td>\n",
       "      <td>434038008</td>\n",
       "      <td>100</td>\n",
       "      <td>G</td>\n",
       "      <td>2019-06-20</td>\n",
       "    </tr>\n",
       "    <tr>\n",
       "      <th>The Lion King</th>\n",
       "      <td>/title/tt0110357/?ref_=bo_cso_table_2</td>\n",
       "      <td>The Lion King</td>\n",
       "      <td>2</td>\n",
       "      <td>$422,783,777</td>\n",
       "      <td>28</td>\n",
       "      <td>1994</td>\n",
       "      <td>422783777</td>\n",
       "      <td>88</td>\n",
       "      <td>G</td>\n",
       "      <td>1994-06-15</td>\n",
       "    </tr>\n",
       "    <tr>\n",
       "      <th>Toy Story 3</th>\n",
       "      <td>/title/tt0435761/?ref_=bo_cso_table_3</td>\n",
       "      <td>Toy Story 3</td>\n",
       "      <td>3</td>\n",
       "      <td>$415,004,880</td>\n",
       "      <td>30</td>\n",
       "      <td>2010</td>\n",
       "      <td>415004880</td>\n",
       "      <td>103</td>\n",
       "      <td>None</td>\n",
       "      <td>2010-06-16</td>\n",
       "    </tr>\n",
       "    <tr>\n",
       "      <th>Finding Nemo</th>\n",
       "      <td>/title/tt0266543/?ref_=bo_cso_table_4</td>\n",
       "      <td>Finding Nemo</td>\n",
       "      <td>4</td>\n",
       "      <td>$380,843,261</td>\n",
       "      <td>43</td>\n",
       "      <td>2003</td>\n",
       "      <td>380843261</td>\n",
       "      <td>100</td>\n",
       "      <td>None</td>\n",
       "      <td>2003-05-30</td>\n",
       "    </tr>\n",
       "    <tr>\n",
       "      <th>Monsters, Inc.</th>\n",
       "      <td>/title/tt0198781/?ref_=bo_cso_table_5</td>\n",
       "      <td>Monsters, Inc.</td>\n",
       "      <td>5</td>\n",
       "      <td>$290,642,256</td>\n",
       "      <td>100</td>\n",
       "      <td>2001</td>\n",
       "      <td>290642256</td>\n",
       "      <td>92</td>\n",
       "      <td>G</td>\n",
       "      <td>2001-11-02</td>\n",
       "    </tr>\n",
       "  </tbody>\n",
       "</table>\n",
       "</div>"
      ],
      "text/plain": [
       "                                            link_stub           title  \\\n",
       "Toy Story 4     /title/tt1979376/?ref_=bo_cso_table_1     Toy Story 4   \n",
       "The Lion King   /title/tt0110357/?ref_=bo_cso_table_2   The Lion King   \n",
       "Toy Story 3     /title/tt0435761/?ref_=bo_cso_table_3     Toy Story 3   \n",
       "Finding Nemo    /title/tt0266543/?ref_=bo_cso_table_4    Finding Nemo   \n",
       "Monsters, Inc.  /title/tt0198781/?ref_=bo_cso_table_5  Monsters, Inc.   \n",
       "\n",
       "               rank_g_movies lifetime_gross rank_overall  year  \\\n",
       "Toy Story 4                1   $434,038,008           24  2019   \n",
       "The Lion King              2   $422,783,777           28  1994   \n",
       "Toy Story 3                3   $415,004,880           30  2010   \n",
       "Finding Nemo               4   $380,843,261           43  2003   \n",
       "Monsters, Inc.             5   $290,642,256          100  2001   \n",
       "\n",
       "                domestic_total_gross  runtime_minutes rating release_date  \n",
       "Toy Story 4                434038008              100      G   2019-06-20  \n",
       "The Lion King              422783777               88      G   1994-06-15  \n",
       "Toy Story 3                415004880              103   None   2010-06-16  \n",
       "Finding Nemo               380843261              100   None   2003-05-30  \n",
       "Monsters, Inc.             290642256               92      G   2001-11-02  "
      ]
     },
     "execution_count": 77,
     "metadata": {},
     "output_type": "execute_result"
    }
   ],
   "source": [
    "g_movies = g_movies.merge(g_movies_page_info, left_index=True, right_index=True)\n",
    "\n",
    "g_movies"
   ]
  },
  {
   "cell_type": "code",
   "execution_count": null,
   "metadata": {},
   "outputs": [],
   "source": []
  },
  {
   "cell_type": "code",
   "execution_count": null,
   "metadata": {},
   "outputs": [],
   "source": []
  },
  {
   "cell_type": "code",
   "execution_count": null,
   "metadata": {},
   "outputs": [],
   "source": []
  },
  {
   "cell_type": "code",
   "execution_count": null,
   "metadata": {},
   "outputs": [],
   "source": []
  },
  {
   "cell_type": "code",
   "execution_count": null,
   "metadata": {},
   "outputs": [],
   "source": []
  },
  {
   "cell_type": "code",
   "execution_count": null,
   "metadata": {},
   "outputs": [],
   "source": []
  },
  {
   "cell_type": "code",
   "execution_count": null,
   "metadata": {},
   "outputs": [],
   "source": []
  }
 ],
 "metadata": {
  "kernelspec": {
   "display_name": "Python 3",
   "language": "python",
   "name": "python3"
  },
  "language_info": {
   "codemirror_mode": {
    "name": "ipython",
    "version": 3
   },
   "file_extension": ".py",
   "mimetype": "text/x-python",
   "name": "python",
   "nbconvert_exporter": "python",
   "pygments_lexer": "ipython3",
   "version": "3.8.5"
  }
 },
 "nbformat": 4,
 "nbformat_minor": 4
}
