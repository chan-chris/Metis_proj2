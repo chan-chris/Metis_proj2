{
 "cells": [
  {
   "cell_type": "markdown",
   "metadata": {},
   "source": [
    "**Readme.txt**\n",
    "\n",
    "**Project 2 metis:**\n",
    "\n",
    "**Date:** \n",
    "01/24/2021\n",
    "\n",
    "**Project Title:** \n",
    "Predicting Vintage Vinyl Resale Prices\n",
    "\n",
    "**Description:**\n",
    "The purpose of the project is to help buyers and sellers estimate prices for vintage jazz vinyl records. \n",
    "\n",
    "**Features and Target Variables:**\n",
    "The target variable is sales price of an album on Discogs.com. Features used as predictors are : release date, \n",
    "Record label, haves, wants, album ratings, album votes, media condition, sleeve condition, notes, etc.\n",
    "\n",
    "**Data Used:** \n",
    "I scraped data from Discogs.com \n",
    "\n",
    "**Tools Used:** \n",
    "I started with beautiful soup to scrape data initially, but ended up using selenium. I used seaborn and/or marplot lib for some of the visuals. ScikitLearn \n",
    "Was also used for some of the models.\n",
    "\n",
    "**Possible Impacts of your project:** \n",
    "Having completed web scraping and data cleaning, I ran a simple linear regression to find coefficients that were impactful\n",
    "to resale price of an album. Some p-vals of coefficients pointed out collinearity with the outcome or simply noise in the data. Once these were taken\n",
    "out we reran a linear regression and got an R^2 score of roughly 0.23.\n",
    "\n",
    "Improvement came in later iterations having used interaction terms, polynomial terms (2nd degree) and standardization. Comparing results for LR, Lasso and \n",
    "Ridge, they all came up with similar R^2 scores and MAE scores of roughly 0.46 and $50 respectively. In the end I chose the Ridge model on the test\n",
    "Data which resulted in an R^2 of 0.37.\n",
    "\n",
    "Upon a closer look at the final outcome, strong relationships appeared between features such as: Media condition (Mint/near mint) + Record Label (blue note specifically) \n",
    "Or people that owned the album + media condition.\n",
    "Further work can be done to perhaps rank albums in the lists by how frequent an album shows up in the list which points to a potentially higher values. \n",
    "Further exploration of blue note records only can be another interesting topic given it’s seeming relationship to resale price.\n",
    "Extracting more keywords from the notes section could also help explain some of the variation in album prices. \n"
   ]
  }
 ],
 "metadata": {
  "kernelspec": {
   "display_name": "Python 3",
   "language": "python",
   "name": "python3"
  },
  "language_info": {
   "codemirror_mode": {
    "name": "ipython",
    "version": 3
   },
   "file_extension": ".py",
   "mimetype": "text/x-python",
   "name": "python",
   "nbconvert_exporter": "python",
   "pygments_lexer": "ipython3",
   "version": "3.8.5"
  }
 },
 "nbformat": 4,
 "nbformat_minor": 4
}
