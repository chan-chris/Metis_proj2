{
 "cells": [
  {
   "cell_type": "markdown",
   "metadata": {},
   "source": [
    "## Evaluating Jazz album prices on Discogs.com\n",
    "## Dataprep\n",
    "**- program:** 02_dataprep.ipynb<br>\n",
    "**- purpose:** readin .csv output from webscrape program (discog_alt.ipynb)<br>\n",
    "**- date:** jan 16, 2021<br>\n",
    "**- created by:** chris chan<br>\n",
    "\n",
    "**- final clean dataframe:** ../data/clean/df_clean.csv"
   ]
  },
  {
   "cell_type": "markdown",
   "metadata": {},
   "source": [
    "### I. Read-in discogs csv files"
   ]
  },
  {
   "cell_type": "code",
   "execution_count": 502,
   "metadata": {},
   "outputs": [
    {
     "data": {
      "text/plain": [
       "(7665, 15)"
      ]
     },
     "execution_count": 502,
     "metadata": {},
     "output_type": "execute_result"
    }
   ],
   "source": [
    "import pandas as pd \n",
    "import glob\n",
    "import os\n",
    "import numpy as np\n",
    "\n",
    "# get all .csv files in data directory\n",
    "filenames=glob.glob(r\"../data2/*.csv\")\n",
    "#print(filenames)\n",
    "\n",
    "li=[]\n",
    "df=pd.DataFrame()\n",
    "\n",
    "# readin each csv and place into list\n",
    "for i in filenames:\n",
    "    data = pd.read_csv(i) \n",
    "    li.append(data)\n",
    "    \n",
    "# append data together    \n",
    "df=pd.concat(li,axis=0,ignore_index=True)\n",
    "df.shape"
   ]
  },
  {
   "cell_type": "code",
   "execution_count": 503,
   "metadata": {},
   "outputs": [
    {
     "name": "stdout",
     "output_type": "stream",
     "text": [
      "<class 'pandas.core.frame.DataFrame'>\n",
      "RangeIndex: 7665 entries, 0 to 7664\n",
      "Data columns (total 15 columns):\n",
      " #   Column            Non-Null Count  Dtype \n",
      "---  ------            --------------  ----- \n",
      " 0   Artist_Album      7663 non-null   object\n",
      " 1   Label             7663 non-null   object\n",
      " 2   Country           7662 non-null   object\n",
      " 3   Format            7663 non-null   object\n",
      " 4   Notes             6954 non-null   object\n",
      " 5   Genre             7663 non-null   object\n",
      " 6   Release_Date      7663 non-null   object\n",
      " 7   Style             7663 non-null   object\n",
      " 8   Rate_Haves_Wants  7663 non-null   object\n",
      " 9   Media_Condition   7663 non-null   object\n",
      " 10  Sleeve_Condition  7654 non-null   object\n",
      " 11  Seller_Rating     7641 non-null   object\n",
      " 12  Recorded_at       3400 non-null   object\n",
      " 13  Pressed_by        2012 non-null   object\n",
      " 14  Price             7663 non-null   object\n",
      "dtypes: object(15)\n",
      "memory usage: 898.4+ KB\n"
     ]
    }
   ],
   "source": [
    "df.head(3)\n",
    "df.info()"
   ]
  },
  {
   "cell_type": "markdown",
   "metadata": {},
   "source": [
    "**Recorded at / pressed by have many nulls. these can be dropped**"
   ]
  },
  {
   "cell_type": "code",
   "execution_count": 504,
   "metadata": {},
   "outputs": [],
   "source": [
    "df.drop(['Recorded_at','Pressed_by'], axis=1, inplace=True)"
   ]
  },
  {
   "cell_type": "markdown",
   "metadata": {},
   "source": [
    "### II. Cleaning"
   ]
  },
  {
   "cell_type": "markdown",
   "metadata": {},
   "source": [
    "**Flag keywords in notes that may add value to resale**"
   ]
  },
  {
   "cell_type": "code",
   "execution_count": 505,
   "metadata": {},
   "outputs": [],
   "source": [
    "df['notes']=df['Notes'].str.lower()"
   ]
  },
  {
   "cell_type": "code",
   "execution_count": 506,
   "metadata": {},
   "outputs": [
    {
     "data": {
      "text/plain": [
       "0       recorded at the wor studios, nyc, on may 9, 19...\n",
       "1                              recorded on june 16, 1957.\n",
       "2       recorded live on november 23, 1955.\\n\\n1st ori...\n",
       "3       recorded on march 3, 1957.\\n\\nthe 1st original...\n",
       "4       this pressing has:\\n- w 63 street address and ...\n",
       "                              ...                        \n",
       "7660    recorded the night of november 12th and mornin...\n",
       "7661    first pressing: six-eyes columbia logo on the ...\n",
       "7662                                                  nan\n",
       "7663                                                  nan\n",
       "7664    recorded july 11, 1958.\\n\\nthis album was form...\n",
       "Name: notes, Length: 7665, dtype: object"
      ]
     },
     "execution_count": 506,
     "metadata": {},
     "output_type": "execute_result"
    }
   ],
   "source": [
    "df['notes'].astype(str)"
   ]
  },
  {
   "cell_type": "markdown",
   "metadata": {},
   "source": [
    "**Notes: Extract keywords from notes**"
   ]
  },
  {
   "cell_type": "code",
   "execution_count": 507,
   "metadata": {},
   "outputs": [
    {
     "data": {
      "text/plain": [
       "0    3890\n",
       "1    3775\n",
       "Name: xnotes, dtype: int64"
      ]
     },
     "execution_count": 507,
     "metadata": {},
     "output_type": "execute_result"
    }
   ],
   "source": [
    "# important keywords found in notes:\n",
    "searchwords = ['1st','first','2nd','second','3rd','third','original','rare','deep','groove','deepgroove', 'sealed','promo']\n",
    "\n",
    "df['fpress'] = np.where(df['notes'].str.contains('1st') | df['notes'].str.contains('first'), 1, 0)\n",
    "df['spress'] = np.where(df['notes'].str.contains('2nd') | df['notes'].str.contains('second'), 1, 0)\n",
    "df['tpress'] = np.where(df['notes'].str.contains('3rd') | df['notes'].str.contains('third'), 1, 0)\n",
    "df['original'] = np.where(df['notes'].str.contains('original') , 1, 0)\n",
    "df['rare'] = np.where(df['notes'].str.contains('rare') , 1, 0)\n",
    "df['dgroove'] = np.where(df['notes'].str.contains('deep') | df['notes'].str.contains('deepgroove') | df['notes'].str.contains('dg') , 1, 0)\n",
    "df['sealed'] = np.where(df['notes'].str.contains('sealed') , 1, 0)\n",
    "df['promo'] = np.where(df['notes'].str.contains('promo'),1,0 )\n",
    "\n",
    "#group all inot one cat\n",
    "df['xnotes'] = df['fpress'] | df['spress'] | df['tpress'] | df['original'] | df['rare'] | df['dgroove'] | df['sealed'] | df['promo']\n",
    "df.xnotes.value_counts()"
   ]
  },
  {
   "cell_type": "code",
   "execution_count": 508,
   "metadata": {},
   "outputs": [
    {
     "data": {
      "text/html": [
       "<div>\n",
       "<style scoped>\n",
       "    .dataframe tbody tr th:only-of-type {\n",
       "        vertical-align: middle;\n",
       "    }\n",
       "\n",
       "    .dataframe tbody tr th {\n",
       "        vertical-align: top;\n",
       "    }\n",
       "\n",
       "    .dataframe thead th {\n",
       "        text-align: right;\n",
       "    }\n",
       "</style>\n",
       "<table border=\"1\" class=\"dataframe\">\n",
       "  <thead>\n",
       "    <tr style=\"text-align: right;\">\n",
       "      <th></th>\n",
       "      <th>fpress</th>\n",
       "      <th>spress</th>\n",
       "      <th>tpress</th>\n",
       "      <th>original</th>\n",
       "      <th>rare</th>\n",
       "      <th>dgroove</th>\n",
       "      <th>sealed</th>\n",
       "      <th>promo</th>\n",
       "      <th>xnotes</th>\n",
       "    </tr>\n",
       "  </thead>\n",
       "  <tbody>\n",
       "    <tr>\n",
       "      <th>count</th>\n",
       "      <td>7665.000000</td>\n",
       "      <td>7665.000000</td>\n",
       "      <td>7665.000000</td>\n",
       "      <td>7665.000000</td>\n",
       "      <td>7665.000000</td>\n",
       "      <td>7665.000000</td>\n",
       "      <td>7665.000000</td>\n",
       "      <td>7665.000000</td>\n",
       "      <td>7665.000000</td>\n",
       "    </tr>\n",
       "    <tr>\n",
       "      <th>mean</th>\n",
       "      <td>0.199348</td>\n",
       "      <td>0.059622</td>\n",
       "      <td>0.066275</td>\n",
       "      <td>0.234964</td>\n",
       "      <td>0.095108</td>\n",
       "      <td>0.178474</td>\n",
       "      <td>0.092890</td>\n",
       "      <td>0.108023</td>\n",
       "      <td>0.492498</td>\n",
       "    </tr>\n",
       "    <tr>\n",
       "      <th>std</th>\n",
       "      <td>0.399536</td>\n",
       "      <td>0.236800</td>\n",
       "      <td>0.248779</td>\n",
       "      <td>0.424004</td>\n",
       "      <td>0.293383</td>\n",
       "      <td>0.382936</td>\n",
       "      <td>0.290297</td>\n",
       "      <td>0.310430</td>\n",
       "      <td>0.499976</td>\n",
       "    </tr>\n",
       "    <tr>\n",
       "      <th>min</th>\n",
       "      <td>0.000000</td>\n",
       "      <td>0.000000</td>\n",
       "      <td>0.000000</td>\n",
       "      <td>0.000000</td>\n",
       "      <td>0.000000</td>\n",
       "      <td>0.000000</td>\n",
       "      <td>0.000000</td>\n",
       "      <td>0.000000</td>\n",
       "      <td>0.000000</td>\n",
       "    </tr>\n",
       "    <tr>\n",
       "      <th>25%</th>\n",
       "      <td>0.000000</td>\n",
       "      <td>0.000000</td>\n",
       "      <td>0.000000</td>\n",
       "      <td>0.000000</td>\n",
       "      <td>0.000000</td>\n",
       "      <td>0.000000</td>\n",
       "      <td>0.000000</td>\n",
       "      <td>0.000000</td>\n",
       "      <td>0.000000</td>\n",
       "    </tr>\n",
       "    <tr>\n",
       "      <th>50%</th>\n",
       "      <td>0.000000</td>\n",
       "      <td>0.000000</td>\n",
       "      <td>0.000000</td>\n",
       "      <td>0.000000</td>\n",
       "      <td>0.000000</td>\n",
       "      <td>0.000000</td>\n",
       "      <td>0.000000</td>\n",
       "      <td>0.000000</td>\n",
       "      <td>0.000000</td>\n",
       "    </tr>\n",
       "    <tr>\n",
       "      <th>75%</th>\n",
       "      <td>0.000000</td>\n",
       "      <td>0.000000</td>\n",
       "      <td>0.000000</td>\n",
       "      <td>0.000000</td>\n",
       "      <td>0.000000</td>\n",
       "      <td>0.000000</td>\n",
       "      <td>0.000000</td>\n",
       "      <td>0.000000</td>\n",
       "      <td>1.000000</td>\n",
       "    </tr>\n",
       "    <tr>\n",
       "      <th>max</th>\n",
       "      <td>1.000000</td>\n",
       "      <td>1.000000</td>\n",
       "      <td>1.000000</td>\n",
       "      <td>1.000000</td>\n",
       "      <td>1.000000</td>\n",
       "      <td>1.000000</td>\n",
       "      <td>1.000000</td>\n",
       "      <td>1.000000</td>\n",
       "      <td>1.000000</td>\n",
       "    </tr>\n",
       "  </tbody>\n",
       "</table>\n",
       "</div>"
      ],
      "text/plain": [
       "            fpress       spress       tpress     original         rare  \\\n",
       "count  7665.000000  7665.000000  7665.000000  7665.000000  7665.000000   \n",
       "mean      0.199348     0.059622     0.066275     0.234964     0.095108   \n",
       "std       0.399536     0.236800     0.248779     0.424004     0.293383   \n",
       "min       0.000000     0.000000     0.000000     0.000000     0.000000   \n",
       "25%       0.000000     0.000000     0.000000     0.000000     0.000000   \n",
       "50%       0.000000     0.000000     0.000000     0.000000     0.000000   \n",
       "75%       0.000000     0.000000     0.000000     0.000000     0.000000   \n",
       "max       1.000000     1.000000     1.000000     1.000000     1.000000   \n",
       "\n",
       "           dgroove       sealed        promo       xnotes  \n",
       "count  7665.000000  7665.000000  7665.000000  7665.000000  \n",
       "mean      0.178474     0.092890     0.108023     0.492498  \n",
       "std       0.382936     0.290297     0.310430     0.499976  \n",
       "min       0.000000     0.000000     0.000000     0.000000  \n",
       "25%       0.000000     0.000000     0.000000     0.000000  \n",
       "50%       0.000000     0.000000     0.000000     0.000000  \n",
       "75%       0.000000     0.000000     0.000000     1.000000  \n",
       "max       1.000000     1.000000     1.000000     1.000000  "
      ]
     },
     "execution_count": 508,
     "metadata": {},
     "output_type": "execute_result"
    }
   ],
   "source": [
    "df.describe()"
   ]
  },
  {
   "cell_type": "code",
   "execution_count": 509,
   "metadata": {},
   "outputs": [
    {
     "data": {
      "text/plain": [
       "0    3890\n",
       "1    3775\n",
       "Name: xnotes, dtype: int64"
      ]
     },
     "execution_count": 509,
     "metadata": {},
     "output_type": "execute_result"
    }
   ],
   "source": [
    "df.xnotes.value_counts()"
   ]
  },
  {
   "cell_type": "markdown",
   "metadata": {},
   "source": [
    "**Cleaning multiple variables**\n",
    "- arist_album:\n",
    "    split artist / album by (-)\n",
    "- label\n",
    "    split by (-)\n",
    "- format\n",
    "    split by (,)\n",
    "- release date\n",
    "    get year - split by (-), otherwise year\n",
    "rates_have_wants\n",
    "    - split by ( first\n",
    "- rating\n",
    "    - split rates_haves_want (2nd)\n",
    "- votes\n",
    "    - split rates_haves_wants (4th)\n",
    "- haves\n",
    "\n",
    "    - split rates_haves_wants : after ( get 1st\n",
    "- wants\n",
    "    - split rates_haves_wants : after ( get 3rd\n",
    "- price\n",
    "    - change to float"
   ]
  },
  {
   "cell_type": "code",
   "execution_count": 510,
   "metadata": {},
   "outputs": [],
   "source": [
    "'''\n",
    " Perform cleaning of vars.\n",
    " Note: a few 'dashes' are em dashes. These were copied into the condition to have the variables split\n",
    "'''\n",
    "# change price to float\n",
    "df['_price']=df['Price'].str.split('$',1,expand=True)[1]\n",
    "\n",
    "df['_price2']=df['_price'].str.replace(\",\",\"\")\n",
    "df['price']=df['_price2'].astype(float)\n",
    "\n",
    "# Artist, Album\n",
    "df[['artist', 'album']] = df['Artist_Album'].str.split('–', n=1, expand=True)\n",
    "\n",
    "# Record Label\n",
    "df[['reclabel','_reclabel']] = df['Label'].str.split('–',n=1,expand=True)\n",
    "\n",
    "# Record release yeaer\n",
    "df['recyear'] = df['Release_Date'].str[-2:] #  = sample_str[-1]\n",
    "\n",
    "# Rating haves wants votes\n",
    "df[['_rating','_haveswants']] = df['Rate_Haves_Wants'].str.split('(', 1,expand=True)\n",
    "df['rating']=df['_rating'].str.split(' ',4,expand=True)[1].str.strip()\n",
    "df['rating'].replace({'Rating': np.nan},inplace=True)\n",
    "df['rating']=df['rating'].astype(float)\n",
    "\n",
    "# votes\n",
    "df['votes']=df['_rating'].str.split(' ',4,expand=True)[3].str.strip()\n",
    "df['votes']=pd.to_numeric(df['votes'], errors='coerce')\n",
    "\n",
    "# Split haves, wants\n",
    "df[['_haves','_wants']] = df['_haveswants'].str.split(',', 1,expand=True)\n",
    "df['_wants'] = df['_wants'].str[:-1]\n",
    "\n",
    "# Haves / Wants\n",
    "df['haves']=df['_haves'].str.split(' ',1,expand=True)[0].astype(float)\n",
    "df['wants']=df['_wants'].str.split(' ',2,expand=True)[1].astype(float)\n",
    "\n",
    "# Sleeve condition\n",
    "df['sleeve_condition']=df['Sleeve_Condition'].str.split(':',1,expand=True)[1]\n",
    "df['sleeve_cond_abbr']=df['Sleeve_Condition'].str.split('(',1,expand=True)[1]\n",
    "df['sleeve_cond_abbr']=df['sleeve_cond_abbr'].str.replace(')','')\n",
    "\n",
    "# Media condition\n",
    "df['media_cond_abbr']=df['Media_Condition'].str.split('(',1,expand=True)[1]\n",
    "df['media_cond_abbr']=df['media_cond_abbr'].str.replace(')','')\n",
    "\n",
    "# Price\n",
    "#df['_price'] = df['Price'].map(lambda x: x.lstrip('$,').rstrip('aAbBcC,'))\n",
    "\n",
    "# Seller rating\n",
    "#df['_seller_rating'] = df['Seller_Rating'].map(lambda x: x.strip('%'))\n",
    "\n",
    "df['seller_rating'] = df['Seller_Rating'].astype(str).str.replace('%', '').astype(float) / 100"
   ]
  },
  {
   "cell_type": "code",
   "execution_count": 511,
   "metadata": {
    "scrolled": true
   },
   "outputs": [
    {
     "data": {
      "text/html": [
       "<div>\n",
       "<style scoped>\n",
       "    .dataframe tbody tr th:only-of-type {\n",
       "        vertical-align: middle;\n",
       "    }\n",
       "\n",
       "    .dataframe tbody tr th {\n",
       "        vertical-align: top;\n",
       "    }\n",
       "\n",
       "    .dataframe thead th {\n",
       "        text-align: right;\n",
       "    }\n",
       "</style>\n",
       "<table border=\"1\" class=\"dataframe\">\n",
       "  <thead>\n",
       "    <tr style=\"text-align: right;\">\n",
       "      <th></th>\n",
       "      <th>Artist_Album</th>\n",
       "      <th>Label</th>\n",
       "      <th>Country</th>\n",
       "      <th>Format</th>\n",
       "      <th>Notes</th>\n",
       "      <th>Genre</th>\n",
       "      <th>Release_Date</th>\n",
       "      <th>Style</th>\n",
       "      <th>Rate_Haves_Wants</th>\n",
       "      <th>Media_Condition</th>\n",
       "      <th>...</th>\n",
       "      <th>rating</th>\n",
       "      <th>votes</th>\n",
       "      <th>_haves</th>\n",
       "      <th>_wants</th>\n",
       "      <th>haves</th>\n",
       "      <th>wants</th>\n",
       "      <th>sleeve_condition</th>\n",
       "      <th>sleeve_cond_abbr</th>\n",
       "      <th>media_cond_abbr</th>\n",
       "      <th>seller_rating</th>\n",
       "    </tr>\n",
       "  </thead>\n",
       "  <tbody>\n",
       "    <tr>\n",
       "      <th>0</th>\n",
       "      <td>Miles Davis – Volume 2</td>\n",
       "      <td>Blue Note – BLP 1502</td>\n",
       "      <td>US</td>\n",
       "      <td>Vinyl, LP, Compilation, Remastered, Mono</td>\n",
       "      <td>Recorded at the WOR Studios, NYC, on May 9, 19...</td>\n",
       "      <td>Jazz</td>\n",
       "      <td>Feb 1956</td>\n",
       "      <td>Hard Bop, Bop</td>\n",
       "      <td>Rated 4.32 of 25 votes (219 have, 301 want)</td>\n",
       "      <td>Very Good Plus (VG+)</td>\n",
       "      <td>...</td>\n",
       "      <td>4.32</td>\n",
       "      <td>25.0</td>\n",
       "      <td>219 have</td>\n",
       "      <td>301 want</td>\n",
       "      <td>219.0</td>\n",
       "      <td>301.0</td>\n",
       "      <td>Very Good (VG)</td>\n",
       "      <td>VG</td>\n",
       "      <td>VG+</td>\n",
       "      <td>0.988</td>\n",
       "    </tr>\n",
       "    <tr>\n",
       "      <th>1</th>\n",
       "      <td>Curtis Fuller – The Opener</td>\n",
       "      <td>Blue Note – BLP 1567</td>\n",
       "      <td>US</td>\n",
       "      <td>Vinyl, LP, Album, Mono</td>\n",
       "      <td>Recorded on June 16, 1957.</td>\n",
       "      <td>Jazz</td>\n",
       "      <td>1957</td>\n",
       "      <td>Hard Bop</td>\n",
       "      <td>Rated 4.50 of 16 votes (68 have, 385 want)</td>\n",
       "      <td>Very Good (VG)</td>\n",
       "      <td>...</td>\n",
       "      <td>4.50</td>\n",
       "      <td>16.0</td>\n",
       "      <td>68 have</td>\n",
       "      <td>385 want</td>\n",
       "      <td>68.0</td>\n",
       "      <td>385.0</td>\n",
       "      <td>Very Good (VG)</td>\n",
       "      <td>VG</td>\n",
       "      <td>VG</td>\n",
       "      <td>1.000</td>\n",
       "    </tr>\n",
       "  </tbody>\n",
       "</table>\n",
       "<p>2 rows × 43 columns</p>\n",
       "</div>"
      ],
      "text/plain": [
       "                 Artist_Album                 Label Country  \\\n",
       "0      Miles Davis – Volume 2  Blue Note – BLP 1502      US   \n",
       "1  Curtis Fuller – The Opener  Blue Note – BLP 1567      US   \n",
       "\n",
       "                                     Format  \\\n",
       "0  Vinyl, LP, Compilation, Remastered, Mono   \n",
       "1                    Vinyl, LP, Album, Mono   \n",
       "\n",
       "                                               Notes Genre Release_Date  \\\n",
       "0  Recorded at the WOR Studios, NYC, on May 9, 19...  Jazz     Feb 1956   \n",
       "1                         Recorded on June 16, 1957.  Jazz         1957   \n",
       "\n",
       "           Style                             Rate_Haves_Wants  \\\n",
       "0  Hard Bop, Bop  Rated 4.32 of 25 votes (219 have, 301 want)   \n",
       "1       Hard Bop   Rated 4.50 of 16 votes (68 have, 385 want)   \n",
       "\n",
       "        Media_Condition  ... rating votes    _haves     _wants  haves  wants  \\\n",
       "0  Very Good Plus (VG+)  ...   4.32  25.0  219 have   301 want  219.0  301.0   \n",
       "1        Very Good (VG)  ...   4.50  16.0   68 have   385 want   68.0  385.0   \n",
       "\n",
       "   sleeve_condition  sleeve_cond_abbr  media_cond_abbr  seller_rating  \n",
       "0    Very Good (VG)                VG              VG+          0.988  \n",
       "1    Very Good (VG)                VG               VG          1.000  \n",
       "\n",
       "[2 rows x 43 columns]"
      ]
     },
     "execution_count": 511,
     "metadata": {},
     "output_type": "execute_result"
    }
   ],
   "source": [
    "df.head(2)"
   ]
  },
  {
   "cell_type": "code",
   "execution_count": 512,
   "metadata": {},
   "outputs": [
    {
     "name": "stdout",
     "output_type": "stream",
     "text": [
      "<class 'pandas.core.frame.DataFrame'>\n",
      "RangeIndex: 7665 entries, 0 to 7664\n",
      "Data columns (total 43 columns):\n",
      " #   Column            Non-Null Count  Dtype  \n",
      "---  ------            --------------  -----  \n",
      " 0   Artist_Album      7663 non-null   object \n",
      " 1   Label             7663 non-null   object \n",
      " 2   Country           7662 non-null   object \n",
      " 3   Format            7663 non-null   object \n",
      " 4   Notes             6954 non-null   object \n",
      " 5   Genre             7663 non-null   object \n",
      " 6   Release_Date      7663 non-null   object \n",
      " 7   Style             7663 non-null   object \n",
      " 8   Rate_Haves_Wants  7663 non-null   object \n",
      " 9   Media_Condition   7663 non-null   object \n",
      " 10  Sleeve_Condition  7654 non-null   object \n",
      " 11  Seller_Rating     7641 non-null   object \n",
      " 12  Price             7663 non-null   object \n",
      " 13  notes             6954 non-null   object \n",
      " 14  fpress            7665 non-null   int64  \n",
      " 15  spress            7665 non-null   int64  \n",
      " 16  tpress            7665 non-null   int64  \n",
      " 17  original          7665 non-null   int64  \n",
      " 18  rare              7665 non-null   int64  \n",
      " 19  dgroove           7665 non-null   int64  \n",
      " 20  sealed            7665 non-null   int64  \n",
      " 21  promo             7665 non-null   int64  \n",
      " 22  xnotes            7665 non-null   int64  \n",
      " 23  _price            7663 non-null   object \n",
      " 24  _price2           7663 non-null   object \n",
      " 25  price             7663 non-null   float64\n",
      " 26  artist            7663 non-null   object \n",
      " 27  album             7663 non-null   object \n",
      " 28  reclabel          7663 non-null   object \n",
      " 29  _reclabel         7663 non-null   object \n",
      " 30  recyear           7663 non-null   object \n",
      " 31  _rating           7663 non-null   object \n",
      " 32  _haveswants       7663 non-null   object \n",
      " 33  rating            7213 non-null   float64\n",
      " 34  votes             7213 non-null   float64\n",
      " 35  _haves            7663 non-null   object \n",
      " 36  _wants            7663 non-null   object \n",
      " 37  haves             7663 non-null   float64\n",
      " 38  wants             7663 non-null   float64\n",
      " 39  sleeve_condition  7654 non-null   object \n",
      " 40  sleeve_cond_abbr  7298 non-null   object \n",
      " 41  media_cond_abbr   7663 non-null   object \n",
      " 42  seller_rating     7641 non-null   float64\n",
      "dtypes: float64(6), int64(9), object(28)\n",
      "memory usage: 2.5+ MB\n"
     ]
    }
   ],
   "source": [
    "df.info()"
   ]
  },
  {
   "cell_type": "markdown",
   "metadata": {},
   "source": [
    "**Diagnostics**"
   ]
  },
  {
   "cell_type": "code",
   "execution_count": 513,
   "metadata": {},
   "outputs": [
    {
     "data": {
      "text/plain": [
       "Hard Bop                                                                           3715\n",
       "Bop, Hard Bop                                                                       817\n",
       "Hard Bop, Modal                                                                     452\n",
       "Hard Bop, Soul-Jazz                                                                 441\n",
       "Hard Bop, Post Bop                                                                  277\n",
       "                                                                                   ... \n",
       "Hard Bop, Vocal, Space-Age, Easy Listening, Swing, Big Band, Country, Dixieland       1\n",
       "Hard Bop, Soul-Jazz, Instrumental                                                     1\n",
       "Bop, Vocal, Hard Bop, Post Bop, Public Service Announcement                           1\n",
       "Cool Jazz, Bop, Hard Bop, Post Bop                                                    1\n",
       "Afro-Cuban Jazz, Hard Bop, Latin Jazz                                                 1\n",
       "Name: Style, Length: 165, dtype: int64"
      ]
     },
     "execution_count": 513,
     "metadata": {},
     "output_type": "execute_result"
    }
   ],
   "source": [
    "# check values of vars\n",
    "#df.dtypes\n",
    "df['Style'].value_counts(ascending=False,dropna=False)"
   ]
  },
  {
   "cell_type": "code",
   "execution_count": 514,
   "metadata": {},
   "outputs": [
    {
     "data": {
      "text/html": [
       "<div>\n",
       "<style scoped>\n",
       "    .dataframe tbody tr th:only-of-type {\n",
       "        vertical-align: middle;\n",
       "    }\n",
       "\n",
       "    .dataframe tbody tr th {\n",
       "        vertical-align: top;\n",
       "    }\n",
       "\n",
       "    .dataframe thead th {\n",
       "        text-align: right;\n",
       "    }\n",
       "</style>\n",
       "<table border=\"1\" class=\"dataframe\">\n",
       "  <thead>\n",
       "    <tr style=\"text-align: right;\">\n",
       "      <th></th>\n",
       "      <th>fpress</th>\n",
       "      <th>spress</th>\n",
       "      <th>tpress</th>\n",
       "      <th>original</th>\n",
       "      <th>rare</th>\n",
       "      <th>dgroove</th>\n",
       "      <th>sealed</th>\n",
       "      <th>promo</th>\n",
       "      <th>xnotes</th>\n",
       "      <th>price</th>\n",
       "      <th>rating</th>\n",
       "      <th>votes</th>\n",
       "      <th>haves</th>\n",
       "      <th>wants</th>\n",
       "      <th>seller_rating</th>\n",
       "    </tr>\n",
       "  </thead>\n",
       "  <tbody>\n",
       "    <tr>\n",
       "      <th>count</th>\n",
       "      <td>7665.000000</td>\n",
       "      <td>7665.000000</td>\n",
       "      <td>7665.000000</td>\n",
       "      <td>7665.000000</td>\n",
       "      <td>7665.000000</td>\n",
       "      <td>7665.000000</td>\n",
       "      <td>7665.000000</td>\n",
       "      <td>7665.000000</td>\n",
       "      <td>7665.000000</td>\n",
       "      <td>7663.000000</td>\n",
       "      <td>7213.000000</td>\n",
       "      <td>7213.000000</td>\n",
       "      <td>7663.000000</td>\n",
       "      <td>7663.000000</td>\n",
       "      <td>7641.000000</td>\n",
       "    </tr>\n",
       "    <tr>\n",
       "      <th>mean</th>\n",
       "      <td>0.199348</td>\n",
       "      <td>0.059622</td>\n",
       "      <td>0.066275</td>\n",
       "      <td>0.234964</td>\n",
       "      <td>0.095108</td>\n",
       "      <td>0.178474</td>\n",
       "      <td>0.092890</td>\n",
       "      <td>0.108023</td>\n",
       "      <td>0.492498</td>\n",
       "      <td>88.149423</td>\n",
       "      <td>4.368951</td>\n",
       "      <td>20.535977</td>\n",
       "      <td>189.297403</td>\n",
       "      <td>156.843925</td>\n",
       "      <td>0.992546</td>\n",
       "    </tr>\n",
       "    <tr>\n",
       "      <th>std</th>\n",
       "      <td>0.399536</td>\n",
       "      <td>0.236800</td>\n",
       "      <td>0.248779</td>\n",
       "      <td>0.424004</td>\n",
       "      <td>0.293383</td>\n",
       "      <td>0.382936</td>\n",
       "      <td>0.290297</td>\n",
       "      <td>0.310430</td>\n",
       "      <td>0.499976</td>\n",
       "      <td>156.246242</td>\n",
       "      <td>0.429413</td>\n",
       "      <td>27.850330</td>\n",
       "      <td>257.524771</td>\n",
       "      <td>235.304400</td>\n",
       "      <td>0.026561</td>\n",
       "    </tr>\n",
       "    <tr>\n",
       "      <th>min</th>\n",
       "      <td>0.000000</td>\n",
       "      <td>0.000000</td>\n",
       "      <td>0.000000</td>\n",
       "      <td>0.000000</td>\n",
       "      <td>0.000000</td>\n",
       "      <td>0.000000</td>\n",
       "      <td>0.000000</td>\n",
       "      <td>0.000000</td>\n",
       "      <td>0.000000</td>\n",
       "      <td>20.000000</td>\n",
       "      <td>1.000000</td>\n",
       "      <td>1.000000</td>\n",
       "      <td>0.000000</td>\n",
       "      <td>0.000000</td>\n",
       "      <td>0.000000</td>\n",
       "    </tr>\n",
       "    <tr>\n",
       "      <th>25%</th>\n",
       "      <td>0.000000</td>\n",
       "      <td>0.000000</td>\n",
       "      <td>0.000000</td>\n",
       "      <td>0.000000</td>\n",
       "      <td>0.000000</td>\n",
       "      <td>0.000000</td>\n",
       "      <td>0.000000</td>\n",
       "      <td>0.000000</td>\n",
       "      <td>0.000000</td>\n",
       "      <td>29.990000</td>\n",
       "      <td>4.160000</td>\n",
       "      <td>4.000000</td>\n",
       "      <td>38.000000</td>\n",
       "      <td>40.000000</td>\n",
       "      <td>0.994000</td>\n",
       "    </tr>\n",
       "    <tr>\n",
       "      <th>50%</th>\n",
       "      <td>0.000000</td>\n",
       "      <td>0.000000</td>\n",
       "      <td>0.000000</td>\n",
       "      <td>0.000000</td>\n",
       "      <td>0.000000</td>\n",
       "      <td>0.000000</td>\n",
       "      <td>0.000000</td>\n",
       "      <td>0.000000</td>\n",
       "      <td>0.000000</td>\n",
       "      <td>45.000000</td>\n",
       "      <td>4.400000</td>\n",
       "      <td>11.000000</td>\n",
       "      <td>91.000000</td>\n",
       "      <td>85.000000</td>\n",
       "      <td>0.999000</td>\n",
       "    </tr>\n",
       "    <tr>\n",
       "      <th>75%</th>\n",
       "      <td>0.000000</td>\n",
       "      <td>0.000000</td>\n",
       "      <td>0.000000</td>\n",
       "      <td>0.000000</td>\n",
       "      <td>0.000000</td>\n",
       "      <td>0.000000</td>\n",
       "      <td>0.000000</td>\n",
       "      <td>0.000000</td>\n",
       "      <td>1.000000</td>\n",
       "      <td>80.000000</td>\n",
       "      <td>4.640000</td>\n",
       "      <td>25.000000</td>\n",
       "      <td>233.000000</td>\n",
       "      <td>184.000000</td>\n",
       "      <td>1.000000</td>\n",
       "    </tr>\n",
       "    <tr>\n",
       "      <th>max</th>\n",
       "      <td>1.000000</td>\n",
       "      <td>1.000000</td>\n",
       "      <td>1.000000</td>\n",
       "      <td>1.000000</td>\n",
       "      <td>1.000000</td>\n",
       "      <td>1.000000</td>\n",
       "      <td>1.000000</td>\n",
       "      <td>1.000000</td>\n",
       "      <td>1.000000</td>\n",
       "      <td>5000.000000</td>\n",
       "      <td>5.000000</td>\n",
       "      <td>212.000000</td>\n",
       "      <td>1946.000000</td>\n",
       "      <td>3685.000000</td>\n",
       "      <td>1.000000</td>\n",
       "    </tr>\n",
       "  </tbody>\n",
       "</table>\n",
       "</div>"
      ],
      "text/plain": [
       "            fpress       spress       tpress     original         rare  \\\n",
       "count  7665.000000  7665.000000  7665.000000  7665.000000  7665.000000   \n",
       "mean      0.199348     0.059622     0.066275     0.234964     0.095108   \n",
       "std       0.399536     0.236800     0.248779     0.424004     0.293383   \n",
       "min       0.000000     0.000000     0.000000     0.000000     0.000000   \n",
       "25%       0.000000     0.000000     0.000000     0.000000     0.000000   \n",
       "50%       0.000000     0.000000     0.000000     0.000000     0.000000   \n",
       "75%       0.000000     0.000000     0.000000     0.000000     0.000000   \n",
       "max       1.000000     1.000000     1.000000     1.000000     1.000000   \n",
       "\n",
       "           dgroove       sealed        promo       xnotes        price  \\\n",
       "count  7665.000000  7665.000000  7665.000000  7665.000000  7663.000000   \n",
       "mean      0.178474     0.092890     0.108023     0.492498    88.149423   \n",
       "std       0.382936     0.290297     0.310430     0.499976   156.246242   \n",
       "min       0.000000     0.000000     0.000000     0.000000    20.000000   \n",
       "25%       0.000000     0.000000     0.000000     0.000000    29.990000   \n",
       "50%       0.000000     0.000000     0.000000     0.000000    45.000000   \n",
       "75%       0.000000     0.000000     0.000000     1.000000    80.000000   \n",
       "max       1.000000     1.000000     1.000000     1.000000  5000.000000   \n",
       "\n",
       "            rating        votes        haves        wants  seller_rating  \n",
       "count  7213.000000  7213.000000  7663.000000  7663.000000    7641.000000  \n",
       "mean      4.368951    20.535977   189.297403   156.843925       0.992546  \n",
       "std       0.429413    27.850330   257.524771   235.304400       0.026561  \n",
       "min       1.000000     1.000000     0.000000     0.000000       0.000000  \n",
       "25%       4.160000     4.000000    38.000000    40.000000       0.994000  \n",
       "50%       4.400000    11.000000    91.000000    85.000000       0.999000  \n",
       "75%       4.640000    25.000000   233.000000   184.000000       1.000000  \n",
       "max       5.000000   212.000000  1946.000000  3685.000000       1.000000  "
      ]
     },
     "execution_count": 514,
     "metadata": {},
     "output_type": "execute_result"
    }
   ],
   "source": [
    "df.describe()"
   ]
  },
  {
   "cell_type": "markdown",
   "metadata": {},
   "source": [
    "**Drop unnecessary variables**"
   ]
  },
  {
   "cell_type": "code",
   "execution_count": 515,
   "metadata": {},
   "outputs": [
    {
     "data": {
      "text/plain": [
       "(7665, 34)"
      ]
     },
     "execution_count": 515,
     "metadata": {},
     "output_type": "execute_result"
    }
   ],
   "source": [
    "# drop vars with _: and unnecessary vars\n",
    "drops = df.columns[df.columns.str.startswith('_')]\n",
    "df.drop(drops, axis=1, inplace=True)\n",
    "df.drop(['Rate_Haves_Wants','sleeve_condition'], axis=1,inplace=True)\n",
    "df.shape"
   ]
  },
  {
   "cell_type": "code",
   "execution_count": 516,
   "metadata": {},
   "outputs": [
    {
     "data": {
      "text/html": [
       "<div>\n",
       "<style scoped>\n",
       "    .dataframe tbody tr th:only-of-type {\n",
       "        vertical-align: middle;\n",
       "    }\n",
       "\n",
       "    .dataframe tbody tr th {\n",
       "        vertical-align: top;\n",
       "    }\n",
       "\n",
       "    .dataframe thead th {\n",
       "        text-align: right;\n",
       "    }\n",
       "</style>\n",
       "<table border=\"1\" class=\"dataframe\">\n",
       "  <thead>\n",
       "    <tr style=\"text-align: right;\">\n",
       "      <th></th>\n",
       "      <th>Artist_Album</th>\n",
       "      <th>Label</th>\n",
       "      <th>Country</th>\n",
       "      <th>Format</th>\n",
       "      <th>Notes</th>\n",
       "      <th>Genre</th>\n",
       "      <th>Release_Date</th>\n",
       "      <th>Style</th>\n",
       "      <th>Media_Condition</th>\n",
       "      <th>Sleeve_Condition</th>\n",
       "      <th>...</th>\n",
       "      <th>album</th>\n",
       "      <th>reclabel</th>\n",
       "      <th>recyear</th>\n",
       "      <th>rating</th>\n",
       "      <th>votes</th>\n",
       "      <th>haves</th>\n",
       "      <th>wants</th>\n",
       "      <th>sleeve_cond_abbr</th>\n",
       "      <th>media_cond_abbr</th>\n",
       "      <th>seller_rating</th>\n",
       "    </tr>\n",
       "  </thead>\n",
       "  <tbody>\n",
       "    <tr>\n",
       "      <th>0</th>\n",
       "      <td>Miles Davis – Volume 2</td>\n",
       "      <td>Blue Note – BLP 1502</td>\n",
       "      <td>US</td>\n",
       "      <td>Vinyl, LP, Compilation, Remastered, Mono</td>\n",
       "      <td>Recorded at the WOR Studios, NYC, on May 9, 19...</td>\n",
       "      <td>Jazz</td>\n",
       "      <td>Feb 1956</td>\n",
       "      <td>Hard Bop, Bop</td>\n",
       "      <td>Very Good Plus (VG+)</td>\n",
       "      <td>Sleeve: Very Good (VG)</td>\n",
       "      <td>...</td>\n",
       "      <td>Volume 2</td>\n",
       "      <td>Blue Note</td>\n",
       "      <td>56</td>\n",
       "      <td>4.32</td>\n",
       "      <td>25.0</td>\n",
       "      <td>219.0</td>\n",
       "      <td>301.0</td>\n",
       "      <td>VG</td>\n",
       "      <td>VG+</td>\n",
       "      <td>0.988</td>\n",
       "    </tr>\n",
       "    <tr>\n",
       "      <th>1</th>\n",
       "      <td>Curtis Fuller – The Opener</td>\n",
       "      <td>Blue Note – BLP 1567</td>\n",
       "      <td>US</td>\n",
       "      <td>Vinyl, LP, Album, Mono</td>\n",
       "      <td>Recorded on June 16, 1957.</td>\n",
       "      <td>Jazz</td>\n",
       "      <td>1957</td>\n",
       "      <td>Hard Bop</td>\n",
       "      <td>Very Good (VG)</td>\n",
       "      <td>Sleeve: Very Good (VG)</td>\n",
       "      <td>...</td>\n",
       "      <td>The Opener</td>\n",
       "      <td>Blue Note</td>\n",
       "      <td>57</td>\n",
       "      <td>4.50</td>\n",
       "      <td>16.0</td>\n",
       "      <td>68.0</td>\n",
       "      <td>385.0</td>\n",
       "      <td>VG</td>\n",
       "      <td>VG</td>\n",
       "      <td>1.000</td>\n",
       "    </tr>\n",
       "  </tbody>\n",
       "</table>\n",
       "<p>2 rows × 34 columns</p>\n",
       "</div>"
      ],
      "text/plain": [
       "                 Artist_Album                 Label Country  \\\n",
       "0      Miles Davis – Volume 2  Blue Note – BLP 1502      US   \n",
       "1  Curtis Fuller – The Opener  Blue Note – BLP 1567      US   \n",
       "\n",
       "                                     Format  \\\n",
       "0  Vinyl, LP, Compilation, Remastered, Mono   \n",
       "1                    Vinyl, LP, Album, Mono   \n",
       "\n",
       "                                               Notes Genre Release_Date  \\\n",
       "0  Recorded at the WOR Studios, NYC, on May 9, 19...  Jazz     Feb 1956   \n",
       "1                         Recorded on June 16, 1957.  Jazz         1957   \n",
       "\n",
       "           Style       Media_Condition        Sleeve_Condition  ...  \\\n",
       "0  Hard Bop, Bop  Very Good Plus (VG+)  Sleeve: Very Good (VG)  ...   \n",
       "1       Hard Bop        Very Good (VG)  Sleeve: Very Good (VG)  ...   \n",
       "\n",
       "         album    reclabel recyear  rating  votes  haves  wants  \\\n",
       "0     Volume 2  Blue Note       56    4.32   25.0  219.0  301.0   \n",
       "1   The Opener  Blue Note       57    4.50   16.0   68.0  385.0   \n",
       "\n",
       "   sleeve_cond_abbr  media_cond_abbr  seller_rating  \n",
       "0                VG              VG+          0.988  \n",
       "1                VG               VG          1.000  \n",
       "\n",
       "[2 rows x 34 columns]"
      ]
     },
     "execution_count": 516,
     "metadata": {},
     "output_type": "execute_result"
    }
   ],
   "source": [
    "df.head(2)"
   ]
  },
  {
   "cell_type": "markdown",
   "metadata": {},
   "source": [
    "**Remove dups**"
   ]
  },
  {
   "cell_type": "code",
   "execution_count": 517,
   "metadata": {},
   "outputs": [
    {
     "name": "stdout",
     "output_type": "stream",
     "text": [
      "<class 'pandas.core.frame.DataFrame'>\n",
      "Int64Index: 7357 entries, 0 to 7664\n",
      "Data columns (total 34 columns):\n",
      " #   Column            Non-Null Count  Dtype  \n",
      "---  ------            --------------  -----  \n",
      " 0   Artist_Album      7356 non-null   object \n",
      " 1   Label             7356 non-null   object \n",
      " 2   Country           7355 non-null   object \n",
      " 3   Format            7356 non-null   object \n",
      " 4   Notes             6672 non-null   object \n",
      " 5   Genre             7356 non-null   object \n",
      " 6   Release_Date      7356 non-null   object \n",
      " 7   Style             7356 non-null   object \n",
      " 8   Media_Condition   7356 non-null   object \n",
      " 9   Sleeve_Condition  7347 non-null   object \n",
      " 10  Seller_Rating     7335 non-null   object \n",
      " 11  Price             7356 non-null   object \n",
      " 12  notes             6672 non-null   object \n",
      " 13  fpress            7357 non-null   int64  \n",
      " 14  spress            7357 non-null   int64  \n",
      " 15  tpress            7357 non-null   int64  \n",
      " 16  original          7357 non-null   int64  \n",
      " 17  rare              7357 non-null   int64  \n",
      " 18  dgroove           7357 non-null   int64  \n",
      " 19  sealed            7357 non-null   int64  \n",
      " 20  promo             7357 non-null   int64  \n",
      " 21  xnotes            7357 non-null   int64  \n",
      " 22  price             7356 non-null   float64\n",
      " 23  artist            7356 non-null   object \n",
      " 24  album             7356 non-null   object \n",
      " 25  reclabel          7356 non-null   object \n",
      " 26  recyear           7356 non-null   object \n",
      " 27  rating            6922 non-null   float64\n",
      " 28  votes             6922 non-null   float64\n",
      " 29  haves             7356 non-null   float64\n",
      " 30  wants             7356 non-null   float64\n",
      " 31  sleeve_cond_abbr  7004 non-null   object \n",
      " 32  media_cond_abbr   7356 non-null   object \n",
      " 33  seller_rating     7335 non-null   float64\n",
      "dtypes: float64(6), int64(9), object(19)\n",
      "memory usage: 2.0+ MB\n"
     ]
    }
   ],
   "source": [
    "df = df.drop_duplicates()\n",
    "df.info()"
   ]
  },
  {
   "cell_type": "markdown",
   "metadata": {},
   "source": [
    "**Drop unnecessary vars**"
   ]
  },
  {
   "cell_type": "code",
   "execution_count": 518,
   "metadata": {},
   "outputs": [],
   "source": [
    "df.drop(['Notes','notes','Price','Seller_Rating','Media_Condition','Sleeve_Condition','Artist_Album','Format'], axis=1, inplace=True)"
   ]
  },
  {
   "cell_type": "markdown",
   "metadata": {},
   "source": [
    "**Checking zeros in all columns**"
   ]
  },
  {
   "cell_type": "code",
   "execution_count": 519,
   "metadata": {},
   "outputs": [
    {
     "data": {
      "text/plain": [
       "Label                  0\n",
       "Country                0\n",
       "Genre                  0\n",
       "Release_Date           0\n",
       "Style                  0\n",
       "fpress              5898\n",
       "spress              6924\n",
       "tpress              6871\n",
       "original            5639\n",
       "rare                6655\n",
       "dgroove             6062\n",
       "sealed              6671\n",
       "promo               6558\n",
       "xnotes              3752\n",
       "price                  0\n",
       "artist                 0\n",
       "album                  0\n",
       "reclabel               0\n",
       "recyear                0\n",
       "rating                 0\n",
       "votes                  0\n",
       "haves                 32\n",
       "wants                 22\n",
       "sleeve_cond_abbr       0\n",
       "media_cond_abbr        0\n",
       "seller_rating          1\n",
       "dtype: int64"
      ]
     },
     "execution_count": 519,
     "metadata": {},
     "output_type": "execute_result"
    }
   ],
   "source": [
    "df.isin([0]).sum()"
   ]
  },
  {
   "cell_type": "markdown",
   "metadata": {},
   "source": [
    "**Cleaning Haves / Wants**\n",
    "- there were very few zeros as haves and wants \n",
    "- deciding to impute to 1 so we can perform non-zero functions"
   ]
  },
  {
   "cell_type": "code",
   "execution_count": 520,
   "metadata": {},
   "outputs": [],
   "source": [
    "haveszero = np.array(df['haves'].values.tolist())\n",
    "df['haves'] = np.where(haveszero ==0 , 1, haveszero).tolist()\n",
    "\n",
    "wantszero = np.array(df['wants'].values.tolist())\n",
    "df['wants'] = np.where(wantszero ==0 , 1, wantszero).tolist()"
   ]
  },
  {
   "cell_type": "markdown",
   "metadata": {},
   "source": [
    "**Seller rating**\n",
    "- We have a few seller ratings with null values. Impute with mode"
   ]
  },
  {
   "cell_type": "code",
   "execution_count": 521,
   "metadata": {},
   "outputs": [],
   "source": [
    "df['seller_rating'].fillna(value=df['seller_rating'].mode(),inplace=True)"
   ]
  },
  {
   "cell_type": "markdown",
   "metadata": {},
   "source": [
    "**Ratings and Votes**\n",
    "- Records with no ratings and/or votes are true zeros, not missings.\n",
    "- Therefore convert to zero"
   ]
  },
  {
   "cell_type": "code",
   "execution_count": 522,
   "metadata": {},
   "outputs": [],
   "source": [
    "df['rating'] = df['rating'].fillna(0)\n",
    "df['votes'] = df['votes'].fillna(0)"
   ]
  },
  {
   "cell_type": "code",
   "execution_count": 523,
   "metadata": {},
   "outputs": [
    {
     "name": "stdout",
     "output_type": "stream",
     "text": [
      "<class 'pandas.core.frame.DataFrame'>\n",
      "Int64Index: 7357 entries, 0 to 7664\n",
      "Data columns (total 26 columns):\n",
      " #   Column            Non-Null Count  Dtype  \n",
      "---  ------            --------------  -----  \n",
      " 0   Label             7356 non-null   object \n",
      " 1   Country           7355 non-null   object \n",
      " 2   Genre             7356 non-null   object \n",
      " 3   Release_Date      7356 non-null   object \n",
      " 4   Style             7356 non-null   object \n",
      " 5   fpress            7357 non-null   int64  \n",
      " 6   spress            7357 non-null   int64  \n",
      " 7   tpress            7357 non-null   int64  \n",
      " 8   original          7357 non-null   int64  \n",
      " 9   rare              7357 non-null   int64  \n",
      " 10  dgroove           7357 non-null   int64  \n",
      " 11  sealed            7357 non-null   int64  \n",
      " 12  promo             7357 non-null   int64  \n",
      " 13  xnotes            7357 non-null   int64  \n",
      " 14  price             7356 non-null   float64\n",
      " 15  artist            7356 non-null   object \n",
      " 16  album             7356 non-null   object \n",
      " 17  reclabel          7356 non-null   object \n",
      " 18  recyear           7356 non-null   object \n",
      " 19  rating            7357 non-null   float64\n",
      " 20  votes             7357 non-null   float64\n",
      " 21  haves             7356 non-null   float64\n",
      " 22  wants             7356 non-null   float64\n",
      " 23  sleeve_cond_abbr  7004 non-null   object \n",
      " 24  media_cond_abbr   7356 non-null   object \n",
      " 25  seller_rating     7335 non-null   float64\n",
      "dtypes: float64(6), int64(9), object(11)\n",
      "memory usage: 1.5+ MB\n"
     ]
    }
   ],
   "source": [
    "df.info()"
   ]
  },
  {
   "cell_type": "markdown",
   "metadata": {},
   "source": [
    "**DROPPING rows with NA**\n",
    "- the remaining NAs are:\n",
    "    - ratings\n",
    "    - votes\n",
    "    - sleeve condition\n",
    "- these may be not worth imputing at this moment"
   ]
  },
  {
   "cell_type": "code",
   "execution_count": 524,
   "metadata": {},
   "outputs": [
    {
     "data": {
      "text/plain": [
       "389"
      ]
     },
     "execution_count": 524,
     "metadata": {},
     "output_type": "execute_result"
    }
   ],
   "source": [
    "#df.isnull().values.any()\n",
    "df.isnull().sum().sum()"
   ]
  },
  {
   "cell_type": "markdown",
   "metadata": {},
   "source": [
    "**Sleeve condition has the remaining null values**\n",
    "- can drop these since they should have been reported"
   ]
  },
  {
   "cell_type": "code",
   "execution_count": 525,
   "metadata": {},
   "outputs": [],
   "source": [
    "# Dropping NAN\n",
    "df.dropna(inplace=True)"
   ]
  },
  {
   "cell_type": "code",
   "execution_count": 526,
   "metadata": {},
   "outputs": [
    {
     "name": "stdout",
     "output_type": "stream",
     "text": [
      "<class 'pandas.core.frame.DataFrame'>\n",
      "Int64Index: 6982 entries, 0 to 7664\n",
      "Data columns (total 26 columns):\n",
      " #   Column            Non-Null Count  Dtype  \n",
      "---  ------            --------------  -----  \n",
      " 0   Label             6982 non-null   object \n",
      " 1   Country           6982 non-null   object \n",
      " 2   Genre             6982 non-null   object \n",
      " 3   Release_Date      6982 non-null   object \n",
      " 4   Style             6982 non-null   object \n",
      " 5   fpress            6982 non-null   int64  \n",
      " 6   spress            6982 non-null   int64  \n",
      " 7   tpress            6982 non-null   int64  \n",
      " 8   original          6982 non-null   int64  \n",
      " 9   rare              6982 non-null   int64  \n",
      " 10  dgroove           6982 non-null   int64  \n",
      " 11  sealed            6982 non-null   int64  \n",
      " 12  promo             6982 non-null   int64  \n",
      " 13  xnotes            6982 non-null   int64  \n",
      " 14  price             6982 non-null   float64\n",
      " 15  artist            6982 non-null   object \n",
      " 16  album             6982 non-null   object \n",
      " 17  reclabel          6982 non-null   object \n",
      " 18  recyear           6982 non-null   object \n",
      " 19  rating            6982 non-null   float64\n",
      " 20  votes             6982 non-null   float64\n",
      " 21  haves             6982 non-null   float64\n",
      " 22  wants             6982 non-null   float64\n",
      " 23  sleeve_cond_abbr  6982 non-null   object \n",
      " 24  media_cond_abbr   6982 non-null   object \n",
      " 25  seller_rating     6982 non-null   float64\n",
      "dtypes: float64(6), int64(9), object(11)\n",
      "memory usage: 1.4+ MB\n"
     ]
    }
   ],
   "source": [
    "df.info()"
   ]
  },
  {
   "cell_type": "markdown",
   "metadata": {},
   "source": [
    "**Reassign conditions to ordinal values**"
   ]
  },
  {
   "cell_type": "code",
   "execution_count": 527,
   "metadata": {},
   "outputs": [],
   "source": [
    "preserved_mapper = {'M':8 , 'NM or M-': 7, 'VG+': 6, 'VG':5, 'G+':4, 'G': 3, 'F':2, 'P':1}\n",
    "df['media_cond_num']=df['media_cond_abbr'].replace(preserved_mapper)\n",
    "df['sleeve_cond_num']=df['sleeve_cond_abbr'].replace(preserved_mapper)"
   ]
  },
  {
   "cell_type": "code",
   "execution_count": 528,
   "metadata": {},
   "outputs": [
    {
     "data": {
      "text/plain": [
       "6    2959\n",
       "5    1734\n",
       "7    1509\n",
       "4     410\n",
       "8     206\n",
       "3     122\n",
       "2      34\n",
       "1       8\n",
       "Name: media_cond_num, dtype: int64"
      ]
     },
     "execution_count": 528,
     "metadata": {},
     "output_type": "execute_result"
    }
   ],
   "source": [
    "df.media_cond_num.value_counts()"
   ]
  },
  {
   "cell_type": "code",
   "execution_count": 529,
   "metadata": {},
   "outputs": [
    {
     "name": "stdout",
     "output_type": "stream",
     "text": [
      "<class 'pandas.core.frame.DataFrame'>\n",
      "Int64Index: 6982 entries, 0 to 7664\n",
      "Data columns (total 28 columns):\n",
      " #   Column            Non-Null Count  Dtype  \n",
      "---  ------            --------------  -----  \n",
      " 0   Label             6982 non-null   object \n",
      " 1   Country           6982 non-null   object \n",
      " 2   Genre             6982 non-null   object \n",
      " 3   Release_Date      6982 non-null   object \n",
      " 4   Style             6982 non-null   object \n",
      " 5   fpress            6982 non-null   int64  \n",
      " 6   spress            6982 non-null   int64  \n",
      " 7   tpress            6982 non-null   int64  \n",
      " 8   original          6982 non-null   int64  \n",
      " 9   rare              6982 non-null   int64  \n",
      " 10  dgroove           6982 non-null   int64  \n",
      " 11  sealed            6982 non-null   int64  \n",
      " 12  promo             6982 non-null   int64  \n",
      " 13  xnotes            6982 non-null   int64  \n",
      " 14  price             6982 non-null   float64\n",
      " 15  artist            6982 non-null   object \n",
      " 16  album             6982 non-null   object \n",
      " 17  reclabel          6982 non-null   object \n",
      " 18  recyear           6982 non-null   object \n",
      " 19  rating            6982 non-null   float64\n",
      " 20  votes             6982 non-null   float64\n",
      " 21  haves             6982 non-null   float64\n",
      " 22  wants             6982 non-null   float64\n",
      " 23  sleeve_cond_abbr  6982 non-null   object \n",
      " 24  media_cond_abbr   6982 non-null   object \n",
      " 25  seller_rating     6982 non-null   float64\n",
      " 26  media_cond_num    6982 non-null   int64  \n",
      " 27  sleeve_cond_num   6982 non-null   int64  \n",
      "dtypes: float64(6), int64(11), object(11)\n",
      "memory usage: 1.5+ MB\n"
     ]
    }
   ],
   "source": [
    "df.info()"
   ]
  },
  {
   "cell_type": "code",
   "execution_count": 530,
   "metadata": {},
   "outputs": [
    {
     "data": {
      "text/html": [
       "<div>\n",
       "<style scoped>\n",
       "    .dataframe tbody tr th:only-of-type {\n",
       "        vertical-align: middle;\n",
       "    }\n",
       "\n",
       "    .dataframe tbody tr th {\n",
       "        vertical-align: top;\n",
       "    }\n",
       "\n",
       "    .dataframe thead th {\n",
       "        text-align: right;\n",
       "    }\n",
       "</style>\n",
       "<table border=\"1\" class=\"dataframe\">\n",
       "  <thead>\n",
       "    <tr style=\"text-align: right;\">\n",
       "      <th></th>\n",
       "      <th>price</th>\n",
       "    </tr>\n",
       "  </thead>\n",
       "  <tbody>\n",
       "    <tr>\n",
       "      <th>1</th>\n",
       "      <td>2100.00</td>\n",
       "    </tr>\n",
       "    <tr>\n",
       "      <th>12</th>\n",
       "      <td>2225.00</td>\n",
       "    </tr>\n",
       "    <tr>\n",
       "      <th>77</th>\n",
       "      <td>2250.00</td>\n",
       "    </tr>\n",
       "    <tr>\n",
       "      <th>57</th>\n",
       "      <td>2799.95</td>\n",
       "    </tr>\n",
       "    <tr>\n",
       "      <th>35</th>\n",
       "      <td>5000.00</td>\n",
       "    </tr>\n",
       "  </tbody>\n",
       "</table>\n",
       "</div>"
      ],
      "text/plain": [
       "      price\n",
       "1   2100.00\n",
       "12  2225.00\n",
       "77  2250.00\n",
       "57  2799.95\n",
       "35  5000.00"
      ]
     },
     "execution_count": 530,
     "metadata": {},
     "output_type": "execute_result"
    }
   ],
   "source": [
    "df[['price']].sort_values(['price']).tail()"
   ]
  },
  {
   "cell_type": "code",
   "execution_count": 531,
   "metadata": {},
   "outputs": [],
   "source": [
    "# Drop outlier\n",
    "df = df[df['price'] < 5000.00]"
   ]
  },
  {
   "cell_type": "code",
   "execution_count": 532,
   "metadata": {},
   "outputs": [
    {
     "data": {
      "text/html": [
       "<div>\n",
       "<style scoped>\n",
       "    .dataframe tbody tr th:only-of-type {\n",
       "        vertical-align: middle;\n",
       "    }\n",
       "\n",
       "    .dataframe tbody tr th {\n",
       "        vertical-align: top;\n",
       "    }\n",
       "\n",
       "    .dataframe thead th {\n",
       "        text-align: right;\n",
       "    }\n",
       "</style>\n",
       "<table border=\"1\" class=\"dataframe\">\n",
       "  <thead>\n",
       "    <tr style=\"text-align: right;\">\n",
       "      <th></th>\n",
       "      <th>price</th>\n",
       "    </tr>\n",
       "  </thead>\n",
       "  <tbody>\n",
       "    <tr>\n",
       "      <th>86</th>\n",
       "      <td>2000.00</td>\n",
       "    </tr>\n",
       "    <tr>\n",
       "      <th>1</th>\n",
       "      <td>2100.00</td>\n",
       "    </tr>\n",
       "    <tr>\n",
       "      <th>12</th>\n",
       "      <td>2225.00</td>\n",
       "    </tr>\n",
       "    <tr>\n",
       "      <th>77</th>\n",
       "      <td>2250.00</td>\n",
       "    </tr>\n",
       "    <tr>\n",
       "      <th>57</th>\n",
       "      <td>2799.95</td>\n",
       "    </tr>\n",
       "  </tbody>\n",
       "</table>\n",
       "</div>"
      ],
      "text/plain": [
       "      price\n",
       "86  2000.00\n",
       "1   2100.00\n",
       "12  2225.00\n",
       "77  2250.00\n",
       "57  2799.95"
      ]
     },
     "execution_count": 532,
     "metadata": {},
     "output_type": "execute_result"
    }
   ],
   "source": [
    "df[['price']].sort_values(['price']).tail()"
   ]
  },
  {
   "cell_type": "markdown",
   "metadata": {},
   "source": [
    "### III. Save Dataframe for analysis"
   ]
  },
  {
   "cell_type": "code",
   "execution_count": 533,
   "metadata": {},
   "outputs": [
    {
     "name": "stdout",
     "output_type": "stream",
     "text": [
      "                                             Label Country Genre Release_Date  \\\n",
      "0                             Blue Note – BLP 1502      US  Jazz     Feb 1956   \n",
      "1                             Blue Note – BLP 1567      US  Jazz         1957   \n",
      "2                             Blue Note – BLP 1508      US  Jazz     May 1956   \n",
      "3                             Blue Note – BLP 1549      US  Jazz     May 1957   \n",
      "5                             New Jazz – PRLP 8205      US  Jazz         1961   \n",
      "...                                            ...     ...   ...          ...   \n",
      "7660                 Contemporary Records – C 3546      US  Jazz         1958   \n",
      "7661                            Columbia – CL 1656      US  Jazz  11 Dec 1961   \n",
      "7662  Pacific Jazz – PJ-2, Pacific Jazz – STEREO-2      US  Jazz         1960   \n",
      "7663                             Impulse! – A-9104      US  Jazz         1966   \n",
      "7664                            Prestige – PR 7825      US  Jazz         1970   \n",
      "\n",
      "                    Style  fpress  spress  tpress  original  rare  ...  \\\n",
      "0           Hard Bop, Bop       1       0       0         1     0  ...   \n",
      "1                Hard Bop       0       0       0         0     0  ...   \n",
      "2                Hard Bop       1       0       0         1     0  ...   \n",
      "3                Hard Bop       1       0       1         1     0  ...   \n",
      "5                Hard Bop       0       0       0         1     0  ...   \n",
      "...                   ...     ...     ...     ...       ...   ...  ...   \n",
      "7660  Cool Jazz, Hard Bop       1       0       0         1     0  ...   \n",
      "7661      Hard Bop, Modal       1       0       0         0     0  ...   \n",
      "7662             Hard Bop       0       0       0         1     1  ...   \n",
      "7663   Hard Bop, Post Bop       0       0       0         1     1  ...   \n",
      "7664             Hard Bop       0       0       0         0     0  ...   \n",
      "\n",
      "      recyear  rating  votes  haves  wants sleeve_cond_abbr media_cond_abbr  \\\n",
      "0          56    4.32   25.0  219.0  301.0               VG             VG+   \n",
      "1          57    4.50   16.0   68.0  385.0               VG              VG   \n",
      "2          56    4.62   29.0  206.0  411.0              VG+        NM or M-   \n",
      "3          57    4.76   17.0   84.0  495.0               VG             VG+   \n",
      "5          61    4.60   10.0   34.0  131.0         NM or M-             VG+   \n",
      "...       ...     ...    ...    ...    ...              ...             ...   \n",
      "7660       58    4.09   11.0   79.0   28.0               G+             VG+   \n",
      "7661       61    4.49   55.0  479.0  219.0               VG              G+   \n",
      "7662       60    4.25    4.0   50.0   41.0              VG+              VG   \n",
      "7663       66    4.50    2.0   89.0   34.0              VG+             VG+   \n",
      "7664       70    3.91   11.0  133.0   57.0              VG+        NM or M-   \n",
      "\n",
      "     seller_rating media_cond_num  sleeve_cond_num  \n",
      "0            0.988              6                5  \n",
      "1            1.000              5                5  \n",
      "2            0.988              7                6  \n",
      "3            0.978              6                5  \n",
      "5            0.994              6                7  \n",
      "...            ...            ...              ...  \n",
      "7660         1.000              6                4  \n",
      "7661         1.000              4                5  \n",
      "7662         0.998              5                6  \n",
      "7663         1.000              6                6  \n",
      "7664         0.999              7                6  \n",
      "\n",
      "[6981 rows x 28 columns]\n"
     ]
    }
   ],
   "source": [
    "df.to_csv(r'../data/clean/_df_clean.csv', index = False, header=True)\n",
    "print(df)"
   ]
  },
  {
   "cell_type": "code",
   "execution_count": null,
   "metadata": {},
   "outputs": [],
   "source": []
  }
 ],
 "metadata": {
  "kernelspec": {
   "display_name": "Python 3",
   "language": "python",
   "name": "python3"
  },
  "language_info": {
   "codemirror_mode": {
    "name": "ipython",
    "version": 3
   },
   "file_extension": ".py",
   "mimetype": "text/x-python",
   "name": "python",
   "nbconvert_exporter": "python",
   "pygments_lexer": "ipython3",
   "version": "3.8.5"
  }
 },
 "nbformat": 4,
 "nbformat_minor": 4
}
